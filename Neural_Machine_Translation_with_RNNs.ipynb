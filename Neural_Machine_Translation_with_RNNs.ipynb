{
  "cells": [
    {
      "cell_type": "code",
      "execution_count": null,
      "metadata": {
        "id": "C24JKO7LxP3O"
      },
      "outputs": [],
      "source": [
        "import tensorflow as tf### models\n",
        "import numpy as np### math computations\n",
        "import matplotlib.pyplot as plt### plotting bar chart\n",
        "import sklearn### machine learning library\n",
        "import cv2## image processing\n",
        "from sklearn.metrics import confusion_matrix, roc_curve### metrics\n",
        "import seaborn as sns### visualizations\n",
        "import datetime\n",
        "import pathlib\n",
        "import io\n",
        "import os\n",
        "import re\n",
        "import string\n",
        "import time\n",
        "from numpy import random\n",
        "import tensorflow_datasets as tfds\n",
        "import tensorflow_probability as tfp\n",
        "from tensorflow.keras.models import Model,save_model\n",
        "from tensorflow.keras.layers import Layer\n",
        "from tensorflow.keras.layers import (Dense,Flatten,SimpleRNN,InputLayer,Conv1D,Bidirectional,GRU,LSTM,BatchNormalization,Dropout,Input, Embedding,TextVectorization)\n",
        "from tensorflow.keras.losses import BinaryCrossentropy,CategoricalCrossentropy, SparseCategoricalCrossentropy\n",
        "from tensorflow.keras.metrics import Accuracy,TopKCategoricalAccuracy, CategoricalAccuracy, SparseCategoricalAccuracy\n",
        "from tensorflow.keras.optimizers import Adam\n",
        "from google.colab import drive\n",
        "from google.colab import files\n",
        "from tensorboard.plugins import projector"
      ]
    },
    {
      "cell_type": "code",
      "source": [
        "from google.colab import drive\n",
        "drive.mount('/content/drive')"
      ],
      "metadata": {
        "colab": {
          "base_uri": "https://localhost:8080/"
        },
        "id": "DHIAzR4J_QHO",
        "outputId": "28a854b1-072e-44cd-e3e9-bea775444a89"
      },
      "execution_count": null,
      "outputs": [
        {
          "output_type": "stream",
          "name": "stdout",
          "text": [
            "Mounted at /content/drive\n"
          ]
        }
      ]
    },
    {
      "cell_type": "markdown",
      "metadata": {
        "id": "cKg0HdsrYA0S"
      },
      "source": [
        "# Data Preparation"
      ]
    },
    {
      "cell_type": "markdown",
      "metadata": {
        "id": "WgU1Z8fcOSW_"
      },
      "source": [
        "## Data Download"
      ]
    },
    {
      "cell_type": "code",
      "execution_count": null,
      "metadata": {
        "colab": {
          "base_uri": "https://localhost:8080/"
        },
        "id": "4hwhov2uvDdo",
        "outputId": "bada3bf9-ac4e-4024-f291-43d72b3aa6d1"
      },
      "outputs": [
        {
          "output_type": "stream",
          "name": "stdout",
          "text": [
            "--2023-10-03 19:07:49--  https://www.manythings.org/anki/fra-eng.zip\n",
            "Resolving www.manythings.org (www.manythings.org)... 173.254.30.110\n",
            "Connecting to www.manythings.org (www.manythings.org)|173.254.30.110|:443... connected.\n",
            "HTTP request sent, awaiting response... 200 OK\n",
            "Length: 7757635 (7.4M) [application/zip]\n",
            "Saving to: ‘fra-eng.zip’\n",
            "\n",
            "fra-eng.zip         100%[===================>]   7.40M  4.08MB/s    in 1.8s    \n",
            "\n",
            "2023-10-03 19:07:52 (4.08 MB/s) - ‘fra-eng.zip’ saved [7757635/7757635]\n",
            "\n"
          ]
        }
      ],
      "source": [
        "!wget https://www.manythings.org/anki/fra-eng.zip"
      ]
    },
    {
      "cell_type": "code",
      "execution_count": null,
      "metadata": {
        "colab": {
          "base_uri": "https://localhost:8080/"
        },
        "id": "Y-ufBPwn8_ax",
        "outputId": "9654a4b2-00c7-427d-d0a2-97b41d8aa4c3"
      },
      "outputs": [
        {
          "output_type": "stream",
          "name": "stdout",
          "text": [
            "Archive:  /content/fra-eng.zip\n",
            "  inflating: /content/dataset/_about.txt  \n",
            "  inflating: /content/dataset/fra.txt  \n"
          ]
        }
      ],
      "source": [
        "!unzip \"/content/fra-eng.zip\" -d \"/content/dataset/\""
      ]
    },
    {
      "cell_type": "markdown",
      "metadata": {
        "id": "RBHsJDpiYDs7"
      },
      "source": [
        "## Kaggle Dataset"
      ]
    },
    {
      "cell_type": "code",
      "execution_count": null,
      "metadata": {
        "colab": {
          "base_uri": "https://localhost:8080/"
        },
        "id": "0Lako-uhxy-n",
        "outputId": "010868e7-efa8-4d99-b202-4ec1084927bc"
      },
      "outputs": [
        {
          "output_type": "stream",
          "name": "stdout",
          "text": [
            "cp: cannot stat 'kaggle.json': No such file or directory\n",
            "chmod: cannot access '/root/.kaggle/kaggle.json': No such file or directory\n",
            "Traceback (most recent call last):\n",
            "  File \"/usr/local/bin/kaggle\", line 5, in <module>\n",
            "    from kaggle.cli import main\n",
            "  File \"/usr/local/lib/python3.10/dist-packages/kaggle/__init__.py\", line 23, in <module>\n",
            "    api.authenticate()\n",
            "  File \"/usr/local/lib/python3.10/dist-packages/kaggle/api/kaggle_api_extended.py\", line 403, in authenticate\n",
            "    raise IOError('Could not find {}. Make sure it\\'s located in'\n",
            "OSError: Could not find kaggle.json. Make sure it's located in /root/.kaggle. Or use the environment method.\n"
          ]
        }
      ],
      "source": [
        "!pip install -q kaggle\n",
        "!mkdir ~/.kaggle\n",
        "!cp kaggle.json ~/.kaggle/\n",
        "!chmod 600 /root/.kaggle/kaggle.json\n",
        "!kaggle datasets download -d dhruvildave/en-fr-translation-dataset"
      ]
    },
    {
      "cell_type": "code",
      "execution_count": null,
      "metadata": {
        "colab": {
          "base_uri": "https://localhost:8080/"
        },
        "id": "B44hfX_vxzA-",
        "outputId": "16687814-cf88-489c-eef8-549c132a7891"
      },
      "outputs": [
        {
          "output_type": "stream",
          "name": "stdout",
          "text": [
            "unzip:  cannot find or open /content/en-fr-translation-dataset.zip, /content/en-fr-translation-dataset.zip.zip or /content/en-fr-translation-dataset.zip.ZIP.\n"
          ]
        }
      ],
      "source": [
        "!unzip \"/content/en-fr-translation-dataset.zip\" -d \"/content/dataset/\""
      ]
    },
    {
      "cell_type": "code",
      "execution_count": null,
      "metadata": {
        "id": "fXcOEWp2L7U9"
      },
      "outputs": [],
      "source": [
        "dataset = tf.data.experimental.CsvDataset(\n",
        "  \"/content/dataset/en-fr.csv\",\n",
        "  [\n",
        "    tf.string,\n",
        "    tf.string\n",
        "  ],\n",
        ")"
      ]
    },
    {
      "cell_type": "markdown",
      "metadata": {
        "id": "omyb2Dq_YHbT"
      },
      "source": [
        "## Data Processing"
      ]
    },
    {
      "cell_type": "code",
      "execution_count": null,
      "metadata": {
        "id": "ywC7WnoIJeXl"
      },
      "outputs": [],
      "source": [
        "text_dataset=tf.data.TextLineDataset(\"/content/dataset/fra.txt\")"
      ]
    },
    {
      "cell_type": "code",
      "execution_count": null,
      "metadata": {
        "id": "QlcJxz6cJeb_"
      },
      "outputs": [],
      "source": [
        "VOCAB_SIZE=20000\n",
        "ENGLISH_SEQUENCE_LENGTH=64\n",
        "FRENCH_SEQUENCE_LENGTH=64\n",
        "EMBEDDING_DIM=300\n",
        "BATCH_SIZE=64"
      ]
    },
    {
      "cell_type": "code",
      "execution_count": null,
      "metadata": {
        "id": "TePer9o-JeeR"
      },
      "outputs": [],
      "source": [
        "english_vectorize_layer=TextVectorization(\n",
        "    standardize='lower_and_strip_punctuation',\n",
        "    max_tokens=VOCAB_SIZE,\n",
        "    output_mode='int',\n",
        "    output_sequence_length=ENGLISH_SEQUENCE_LENGTH\n",
        ")"
      ]
    },
    {
      "cell_type": "code",
      "execution_count": null,
      "metadata": {
        "id": "unGn0zqEJegg"
      },
      "outputs": [],
      "source": [
        "french_vectorize_layer=TextVectorization(\n",
        "    standardize='lower_and_strip_punctuation',\n",
        "    max_tokens=VOCAB_SIZE,\n",
        "    output_mode='int',\n",
        "    output_sequence_length=FRENCH_SEQUENCE_LENGTH\n",
        ")"
      ]
    },
    {
      "cell_type": "code",
      "execution_count": null,
      "metadata": {
        "id": "iNK3uewuQTjY"
      },
      "outputs": [],
      "source": [
        "def selector(input_text):\n",
        "  split_text=tf.strings.split(input_text,'\\t')\n",
        "  return {'input_1':split_text[0:1],'input_2':'starttoken '+split_text[1:2]},split_text[1:2]+' endtoken'"
      ]
    },
    {
      "cell_type": "code",
      "execution_count": null,
      "metadata": {
        "id": "YZDH8xn7Q12e"
      },
      "outputs": [],
      "source": [
        "split_dataset=text_dataset.map(selector)"
      ]
    },
    {
      "cell_type": "code",
      "execution_count": null,
      "metadata": {
        "id": "7fcSDED_2c-z"
      },
      "outputs": [],
      "source": [
        "def separator(input_text):\n",
        "  split_text=tf.strings.split(input_text,'\\t')\n",
        "  return split_text[0:1],'starttoken '+split_text[1:2]+' endtoken'"
      ]
    },
    {
      "cell_type": "code",
      "execution_count": null,
      "metadata": {
        "id": "ktN95hiN2pgU"
      },
      "outputs": [],
      "source": [
        "init_dataset=text_dataset.map(separator)"
      ]
    },
    {
      "cell_type": "code",
      "execution_count": null,
      "metadata": {
        "colab": {
          "base_uri": "https://localhost:8080/"
        },
        "id": "OQkSkpd1tils",
        "outputId": "43d08d50-657a-4ea4-81db-17f27b042ba7"
      },
      "outputs": [
        {
          "output_type": "stream",
          "name": "stdout",
          "text": [
            "({'input_1': <tf.Tensor: shape=(1,), dtype=string, numpy=array([b'Go.'], dtype=object)>, 'input_2': <tf.Tensor: shape=(1,), dtype=string, numpy=array([b'starttoken Va !'], dtype=object)>}, <tf.Tensor: shape=(1,), dtype=string, numpy=array([b'Va ! endtoken'], dtype=object)>)\n",
            "({'input_1': <tf.Tensor: shape=(1,), dtype=string, numpy=array([b'Go.'], dtype=object)>, 'input_2': <tf.Tensor: shape=(1,), dtype=string, numpy=array([b'starttoken Marche.'], dtype=object)>}, <tf.Tensor: shape=(1,), dtype=string, numpy=array([b'Marche. endtoken'], dtype=object)>)\n",
            "({'input_1': <tf.Tensor: shape=(1,), dtype=string, numpy=array([b'Go.'], dtype=object)>, 'input_2': <tf.Tensor: shape=(1,), dtype=string, numpy=array([b'starttoken En route !'], dtype=object)>}, <tf.Tensor: shape=(1,), dtype=string, numpy=array([b'En route ! endtoken'], dtype=object)>)\n"
          ]
        }
      ],
      "source": [
        "for i in split_dataset.take(3):\n",
        "  print(i)"
      ]
    },
    {
      "cell_type": "code",
      "execution_count": null,
      "metadata": {
        "id": "_usEDYiOJeil"
      },
      "outputs": [],
      "source": [
        "english_training_data=init_dataset.map(lambda x,y:x)### input x,y and output x\n",
        "english_vectorize_layer.adapt(english_training_data)#### adapt the vectorize_layer to the training data"
      ]
    },
    {
      "cell_type": "code",
      "execution_count": null,
      "metadata": {
        "id": "dl7pxJprJek2"
      },
      "outputs": [],
      "source": [
        "french_training_data=init_dataset.map(lambda x,y:y)### input x,y,z and output y\n",
        "french_vectorize_layer.adapt(french_training_data)#### adapt the vectorize_layer to the training data"
      ]
    },
    {
      "cell_type": "code",
      "execution_count": null,
      "metadata": {
        "id": "4yVIMxvTJemt"
      },
      "outputs": [],
      "source": [
        "def vectorizer(inputs,output):\n",
        "  return {'input_1':english_vectorize_layer(inputs['input_1']),\n",
        "          'input_2':french_vectorize_layer(inputs['input_2'])},french_vectorize_layer(output)"
      ]
    },
    {
      "cell_type": "code",
      "execution_count": null,
      "metadata": {
        "id": "op5UqhS14HHz",
        "outputId": "f04447f3-d9ef-4b4a-e680-f910494cb9e9",
        "colab": {
          "base_uri": "https://localhost:8080/"
        }
      },
      "outputs": [
        {
          "output_type": "execute_result",
          "data": {
            "text/plain": [
              "<_MapDataset element_spec=({'input_1': TensorSpec(shape=(None,), dtype=tf.string, name=None), 'input_2': TensorSpec(shape=(None,), dtype=tf.string, name=None)}, TensorSpec(shape=(None,), dtype=tf.string, name=None))>"
            ]
          },
          "metadata": {},
          "execution_count": 35
        }
      ],
      "source": [
        "split_dataset"
      ]
    },
    {
      "cell_type": "code",
      "execution_count": null,
      "metadata": {
        "id": "wI9-GPpVJepF"
      },
      "outputs": [],
      "source": [
        "dataset=split_dataset.map(vectorizer)"
      ]
    },
    {
      "cell_type": "code",
      "execution_count": null,
      "metadata": {
        "id": "m_6Xtks8wPk5",
        "outputId": "cee8ece4-fa14-4531-afb2-6d8383fc7aca",
        "colab": {
          "base_uri": "https://localhost:8080/"
        }
      },
      "outputs": [
        {
          "output_type": "stream",
          "name": "stdout",
          "text": [
            "({'input_1': <tf.Tensor: shape=(1,), dtype=string, numpy=array([b'Go.'], dtype=object)>, 'input_2': <tf.Tensor: shape=(1,), dtype=string, numpy=array([b'starttoken Va !'], dtype=object)>}, <tf.Tensor: shape=(1,), dtype=string, numpy=array([b'Va ! endtoken'], dtype=object)>)\n",
            "({'input_1': <tf.Tensor: shape=(1,), dtype=string, numpy=array([b'Go.'], dtype=object)>, 'input_2': <tf.Tensor: shape=(1,), dtype=string, numpy=array([b'starttoken Marche.'], dtype=object)>}, <tf.Tensor: shape=(1,), dtype=string, numpy=array([b'Marche. endtoken'], dtype=object)>)\n",
            "({'input_1': <tf.Tensor: shape=(1,), dtype=string, numpy=array([b'Go.'], dtype=object)>, 'input_2': <tf.Tensor: shape=(1,), dtype=string, numpy=array([b'starttoken En route !'], dtype=object)>}, <tf.Tensor: shape=(1,), dtype=string, numpy=array([b'En route ! endtoken'], dtype=object)>)\n"
          ]
        }
      ],
      "source": [
        "for i in split_dataset.take(3):\n",
        "  print(i)"
      ]
    },
    {
      "cell_type": "code",
      "execution_count": null,
      "metadata": {
        "id": "FM9aenklufpC",
        "outputId": "b2017520-6f84-49f3-c09c-6f86edf4e42c",
        "colab": {
          "base_uri": "https://localhost:8080/"
        }
      },
      "outputs": [
        {
          "output_type": "stream",
          "name": "stdout",
          "text": [
            "({'input_1': <tf.Tensor: shape=(1, 64), dtype=int64, numpy=\n",
            "array([[44,  0,  0,  0,  0,  0,  0,  0,  0,  0,  0,  0,  0,  0,  0,  0,\n",
            "         0,  0,  0,  0,  0,  0,  0,  0,  0,  0,  0,  0,  0,  0,  0,  0,\n",
            "         0,  0,  0,  0,  0,  0,  0,  0,  0,  0,  0,  0,  0,  0,  0,  0,\n",
            "         0,  0,  0,  0,  0,  0,  0,  0,  0,  0,  0,  0,  0,  0,  0,  0]])>, 'input_2': <tf.Tensor: shape=(1, 64), dtype=int64, numpy=\n",
            "array([[  2, 103,   0,   0,   0,   0,   0,   0,   0,   0,   0,   0,   0,\n",
            "          0,   0,   0,   0,   0,   0,   0,   0,   0,   0,   0,   0,   0,\n",
            "          0,   0,   0,   0,   0,   0,   0,   0,   0,   0,   0,   0,   0,\n",
            "          0,   0,   0,   0,   0,   0,   0,   0,   0,   0,   0,   0,   0,\n",
            "          0,   0,   0,   0,   0,   0,   0,   0,   0,   0,   0,   0]])>}, <tf.Tensor: shape=(1, 64), dtype=int64, numpy=\n",
            "array([[103,   3,   0,   0,   0,   0,   0,   0,   0,   0,   0,   0,   0,\n",
            "          0,   0,   0,   0,   0,   0,   0,   0,   0,   0,   0,   0,   0,\n",
            "          0,   0,   0,   0,   0,   0,   0,   0,   0,   0,   0,   0,   0,\n",
            "          0,   0,   0,   0,   0,   0,   0,   0,   0,   0,   0,   0,   0,\n",
            "          0,   0,   0,   0,   0,   0,   0,   0,   0,   0,   0,   0]])>)\n"
          ]
        }
      ],
      "source": [
        "for i in dataset.take(1):\n",
        "  print(i)"
      ]
    },
    {
      "cell_type": "code",
      "execution_count": null,
      "metadata": {
        "id": "iOpSsko7TiKd",
        "colab": {
          "base_uri": "https://localhost:8080/"
        },
        "outputId": "31329ac6-2ca4-4d00-dc19-cd3f8939059d"
      },
      "outputs": [
        {
          "output_type": "execute_result",
          "data": {
            "text/plain": [
              "<_MapDataset element_spec=({'input_1': TensorSpec(shape=(None, 64), dtype=tf.int64, name=None), 'input_2': TensorSpec(shape=(None, 64), dtype=tf.int64, name=None)}, TensorSpec(shape=(None, 64), dtype=tf.int64, name=None))>"
            ]
          },
          "metadata": {},
          "execution_count": 39
        }
      ],
      "source": [
        "dataset"
      ]
    },
    {
      "cell_type": "code",
      "execution_count": null,
      "metadata": {
        "id": "_WE0s6p9TiM9"
      },
      "outputs": [],
      "source": [
        "dataset=dataset.shuffle(2048).unbatch().batch(BATCH_SIZE).prefetch(buffer_size=tf.data.AUTOTUNE)"
      ]
    },
    {
      "cell_type": "code",
      "execution_count": null,
      "metadata": {
        "id": "K5JXDdrNtwRj"
      },
      "outputs": [],
      "source": [
        "NUM_BATCHES=int(200000/BATCH_SIZE)"
      ]
    },
    {
      "cell_type": "code",
      "execution_count": null,
      "metadata": {
        "id": "XQvg18V5TiO7"
      },
      "outputs": [],
      "source": [
        "train_dataset=dataset.take(int(0.9*NUM_BATCHES))\n",
        "val_dataset=dataset.skip(int(0.9*NUM_BATCHES))"
      ]
    },
    {
      "cell_type": "markdown",
      "metadata": {
        "id": "nBVM2EB0Xh97"
      },
      "source": [
        "# Modeling"
      ]
    },
    {
      "cell_type": "code",
      "execution_count": null,
      "metadata": {
        "id": "t5lTjZBE6M4Q"
      },
      "outputs": [],
      "source": [
        "NUM_UNITS=256"
      ]
    },
    {
      "cell_type": "code",
      "execution_count": null,
      "metadata": {
        "colab": {
          "base_uri": "https://localhost:8080/"
        },
        "id": "K6yQraRg7EDH",
        "outputId": "6e638b99-b1af-40a6-ecba-e9df24e8e5f8"
      },
      "outputs": [
        {
          "output_type": "stream",
          "name": "stdout",
          "text": [
            "Model: \"model\"\n",
            "__________________________________________________________________________________________________\n",
            " Layer (type)                Output Shape                 Param #   Connected to                  \n",
            "==================================================================================================\n",
            " input_1 (InputLayer)        [(None, 64)]                 0         []                            \n",
            "                                                                                                  \n",
            " input_2 (InputLayer)        [(None, 64)]                 0         []                            \n",
            "                                                                                                  \n",
            " embedding (Embedding)       (None, 64, 300)              6000000   ['input_1[0][0]']             \n",
            "                                                                                                  \n",
            " embedding_1 (Embedding)     (None, 64, 300)              6000000   ['input_2[0][0]']             \n",
            "                                                                                                  \n",
            " bidirectional (Bidirection  (None, 512)                  857088    ['embedding[0][0]']           \n",
            " al)                                                                                              \n",
            "                                                                                                  \n",
            " gru_1 (GRU)                 (None, 64, 512)              1250304   ['embedding_1[0][0]',         \n",
            "                                                                     'bidirectional[0][0]']       \n",
            "                                                                                                  \n",
            " dropout (Dropout)           (None, 64, 512)              0         ['gru_1[0][0]']               \n",
            "                                                                                                  \n",
            " dense (Dense)               (None, 64, 20000)            1026000   ['dropout[0][0]']             \n",
            "                                                          0                                       \n",
            "                                                                                                  \n",
            "==================================================================================================\n",
            "Total params: 24367392 (92.95 MB)\n",
            "Trainable params: 24367392 (92.95 MB)\n",
            "Non-trainable params: 0 (0.00 Byte)\n",
            "__________________________________________________________________________________________________\n"
          ]
        }
      ],
      "source": [
        "### ENCODER\n",
        "input = Input(shape=(ENGLISH_SEQUENCE_LENGTH,), dtype=\"int64\", name=\"input_1\")\n",
        "x=Embedding(VOCAB_SIZE, EMBEDDING_DIM, )(input)\n",
        "encoded_input=Bidirectional(GRU(NUM_UNITS), )(x)\n",
        "\n",
        "### DECODER\n",
        "shifted_target=Input(shape=(FRENCH_SEQUENCE_LENGTH,), dtype=\"int64\", name=\"input_2\")\n",
        "x=Embedding(VOCAB_SIZE,EMBEDDING_DIM,)(shifted_target)\n",
        "x = GRU(NUM_UNITS*2, return_sequences=True)(x, initial_state=encoded_input)\n",
        "\n",
        "### OUTPUT\n",
        "x = Dropout(0.5)(x)\n",
        "target=Dense(VOCAB_SIZE,activation=\"softmax\")(x)\n",
        "seq2seq_gru=Model([input,shifted_target],target)\n",
        "seq2seq_gru.summary()"
      ]
    },
    {
      "cell_type": "code",
      "execution_count": null,
      "metadata": {
        "id": "wKrG-74zHlR-"
      },
      "outputs": [],
      "source": [
        "class BLEU(tf.keras.metrics.Metric):\n",
        "    def __init__(self,name='bleu_score'):\n",
        "        super(BLEU,self).__init__()\n",
        "        self.bleu_score=0\n",
        "\n",
        "    def update_state(self,y_true,y_pred,sample_weight=None):\n",
        "      y_pred=tf.argmax(y_pred,-1)\n",
        "      self.bleu_score=0\n",
        "      for i,j in zip(y_pred,y_true):\n",
        "        tf.autograph.experimental.set_loop_options()\n",
        "\n",
        "        total_words=tf.math.count_nonzero(i)\n",
        "        total_matches=0\n",
        "        for word in i:\n",
        "          if word==0:\n",
        "            break\n",
        "          for q in range(len(j)):\n",
        "            if j[q]==0:\n",
        "              break\n",
        "            if word==j[q]:\n",
        "              total_matches+=1\n",
        "              j=tf.boolean_mask(j,[False if y==q else True for y in range(len(j))])\n",
        "              break\n",
        "\n",
        "        self.bleu_score+=total_matches/total_words\n",
        "\n",
        "    def result(self):\n",
        "        return self.bleu_score/BATCH_SIZE"
      ]
    },
    {
      "cell_type": "code",
      "source": [
        "bleu = BLEU()"
      ],
      "metadata": {
        "id": "ROCjHc8SUAa7"
      },
      "execution_count": null,
      "outputs": []
    },
    {
      "cell_type": "code",
      "execution_count": null,
      "metadata": {
        "id": "yk-sLBpE7EFf"
      },
      "outputs": [],
      "source": [
        "seq2seq_gru.compile(\n",
        "    loss=tf.keras.losses.SparseCategoricalCrossentropy(),\n",
        "    optimizer=tf.keras.optimizers.Adam(5e-4),\n",
        "    # metrics=[bleu],\n",
        "    run_eagerly=True)"
      ]
    },
    {
      "cell_type": "code",
      "source": [
        "import pickle\n",
        "pickle.dump({'config': english_vectorize_layer.get_config(), 'weights': english_vectorize_layer.get_weights()}, open(\"/content/drive/MyDrive/NMT/english_vectorize_layer.pkl\", \"wb\"))\n",
        "pickle.dump({'config': french_vectorize_layer.get_config(), 'weights': french_vectorize_layer.get_weights()}, open(\"/content/drive/MyDrive/NMT/french_vectorize_layer.pkl\", \"wb\"))\n"
      ],
      "metadata": {
        "id": "Wal5oTBRGY58"
      },
      "execution_count": null,
      "outputs": []
    },
    {
      "cell_type": "code",
      "execution_count": null,
      "metadata": {
        "id": "5xPxLzvgVAp-"
      },
      "outputs": [],
      "source": [
        "checkpoint_filepath = '//content/drive/MyDrive/NMT/lstm.h5'\n",
        "model_checkpoint_callback = tf.keras.callbacks.ModelCheckpoint(\n",
        "    filepath=checkpoint_filepath,\n",
        "    monitor='val_loss',\n",
        "    mode='min',\n",
        "    save_best_only=True,)"
      ]
    },
    {
      "cell_type": "code",
      "execution_count": null,
      "metadata": {
        "colab": {
          "base_uri": "https://localhost:8080/"
        },
        "id": "H8CYlj_w-UPO",
        "outputId": "33ada527-73f3-44d6-9790-69f966b418f8"
      },
      "outputs": [
        {
          "output_type": "stream",
          "name": "stdout",
          "text": [
            "Epoch 1/15\n"
          ]
        },
        {
          "output_type": "stream",
          "name": "stderr",
          "text": [
            "WARNING:tensorflow:5 out of the last 5 calls to <function _BaseOptimizer._update_step_xla at 0x7f2a1d015480> triggered tf.function retracing. Tracing is expensive and the excessive number of tracings could be due to (1) creating @tf.function repeatedly in a loop, (2) passing tensors with different shapes, (3) passing Python objects instead of tensors. For (1), please define your @tf.function outside of the loop. For (2), @tf.function has reduce_retracing=True option that can avoid unnecessary retracing. For (3), please refer to https://www.tensorflow.org/guide/function#controlling_retracing and https://www.tensorflow.org/api_docs/python/tf/function for  more details.\n",
            "WARNING:tensorflow:6 out of the last 6 calls to <function _BaseOptimizer._update_step_xla at 0x7f2a1d015480> triggered tf.function retracing. Tracing is expensive and the excessive number of tracings could be due to (1) creating @tf.function repeatedly in a loop, (2) passing tensors with different shapes, (3) passing Python objects instead of tensors. For (1), please define your @tf.function outside of the loop. For (2), @tf.function has reduce_retracing=True option that can avoid unnecessary retracing. For (3), please refer to https://www.tensorflow.org/guide/function#controlling_retracing and https://www.tensorflow.org/api_docs/python/tf/function for  more details.\n"
          ]
        },
        {
          "output_type": "stream",
          "name": "stdout",
          "text": [
            "   2812/Unknown - 519s 182ms/step - loss: 0.4693"
          ]
        },
        {
          "output_type": "stream",
          "name": "stderr",
          "text": [
            "/usr/local/lib/python3.10/dist-packages/keras/src/engine/training.py:3000: UserWarning: You are saving your model as an HDF5 file via `model.save()`. This file format is considered legacy. We recommend using instead the native Keras format, e.g. `model.save('my_model.keras')`.\n",
            "  saving_api.save_model(\n"
          ]
        },
        {
          "output_type": "stream",
          "name": "stdout",
          "text": [
            "\b\b\b\b\b\b\b\b\b\b\b\b\b\b\b\b\b\b\b\b\b\b\b\b\b\b\b\b\b\b\b\b\b\b\b\b\b\b\b\b\b\b\b\b\b\b\b\b\r2812/2812 [==============================] - 608s 214ms/step - loss: 0.4693 - val_loss: 0.7276\n",
            "Epoch 2/15\n",
            "2812/2812 [==============================] - 521s 185ms/step - loss: 0.2761 - val_loss: 0.6225\n",
            "Epoch 3/15\n",
            "2812/2812 [==============================] - 516s 183ms/step - loss: 0.2158 - val_loss: 0.5815\n",
            "Epoch 4/15\n",
            "2812/2812 [==============================] - 519s 185ms/step - loss: 0.1799 - val_loss: 0.5568\n",
            "Epoch 5/15\n",
            "2812/2812 [==============================] - 517s 184ms/step - loss: 0.1559 - val_loss: 0.5426\n",
            "Epoch 6/15\n",
            "2812/2812 [==============================] - 514s 183ms/step - loss: 0.1386 - val_loss: 0.5362\n",
            "Epoch 7/15\n",
            "2812/2812 [==============================] - 572s 203ms/step - loss: 0.1256 - val_loss: 0.5299\n",
            "Epoch 8/15\n",
            "2812/2812 [==============================] - 514s 183ms/step - loss: 0.1154 - val_loss: 0.5347\n",
            "Epoch 9/15\n",
            "2812/2812 [==============================] - 509s 181ms/step - loss: 0.1071 - val_loss: 0.5379\n",
            "Epoch 10/15\n",
            "2812/2812 [==============================] - 507s 180ms/step - loss: 0.1004 - val_loss: 0.5412\n",
            "Epoch 11/15\n",
            "2812/2812 [==============================] - 512s 182ms/step - loss: 0.0947 - val_loss: 0.5416\n",
            "Epoch 12/15\n",
            "2812/2812 [==============================] - 511s 182ms/step - loss: 0.0898 - val_loss: 0.5515\n",
            "Epoch 13/15\n",
            "2812/2812 [==============================] - 568s 202ms/step - loss: 0.0856 - val_loss: 0.5540\n",
            "Epoch 14/15\n",
            "2812/2812 [==============================] - 567s 202ms/step - loss: 0.0820 - val_loss: 0.5561\n",
            "Epoch 15/15\n",
            "2812/2812 [==============================] - 569s 202ms/step - loss: 0.0789 - val_loss: 0.5728\n"
          ]
        }
      ],
      "source": [
        "history=seq2seq_gru.fit(\n",
        "    train_dataset,\n",
        "    validation_data=val_dataset,\n",
        "    epochs=15,\n",
        "    callbacks=[model_checkpoint_callback])\n",
        "\n",
        "# Save the model as a h5 file\n",
        "seq2seq_gru.save(\"/content/drive/MyDrive/NMT/seq2seq_gru.h5\", save_format=\"h5\")"
      ]
    },
    {
      "cell_type": "code",
      "source": [
        "# Instantiate the BLEU metric class\n",
        "bleu = BLEU()\n",
        "count = 0\n",
        "# Loop over the validation dataset\n",
        "for x, y in val_dataset:\n",
        "  #\n",
        "  if count==550:\n",
        "    break\n",
        "  # Get the input and shifted target from x\n",
        "  input = x[\"input_1\"]\n",
        "  shifted_target = x[\"input_2\"]\n",
        "\n",
        "  # Predict the output using the model\n",
        "  output = seq2seq_gru.predict([input, shifted_target])\n",
        "\n",
        "  count+=1\n",
        "  print(count)\n",
        "\n",
        "  # Update the BLEU metric state with the true and predicted target\n",
        "  bleu.update_state(y, output)\n",
        "\n",
        "\n",
        "\n",
        "# Get the final BLEU score result\n",
        "bleu_score = bleu.result()\n",
        "\n",
        "# Print the BLEU score\n",
        "print(f\"BLEU score on validation dataset: {bleu_score:.4f}\")\n"
      ],
      "metadata": {
        "id": "U0oGHZaeCqlT",
        "colab": {
          "base_uri": "https://localhost:8080/"
        },
        "outputId": "ee729f70-4cdd-426d-d582-cb85c1af2e07"
      },
      "execution_count": null,
      "outputs": [
        {
          "output_type": "stream",
          "name": "stdout",
          "text": [
            "2/2 [==============================] - 0s 40ms/step\n",
            "1\n",
            "2/2 [==============================] - 0s 40ms/step\n",
            "2\n",
            "2/2 [==============================] - 0s 48ms/step\n",
            "3\n",
            "2/2 [==============================] - 0s 39ms/step\n",
            "4\n",
            "2/2 [==============================] - 0s 40ms/step\n",
            "5\n",
            "2/2 [==============================] - 0s 40ms/step\n",
            "6\n",
            "2/2 [==============================] - 0s 40ms/step\n",
            "7\n",
            "2/2 [==============================] - 0s 49ms/step\n",
            "8\n",
            "2/2 [==============================] - 0s 39ms/step\n",
            "9\n",
            "2/2 [==============================] - 0s 39ms/step\n",
            "10\n",
            "2/2 [==============================] - 0s 40ms/step\n",
            "11\n",
            "2/2 [==============================] - 0s 41ms/step\n",
            "12\n",
            "2/2 [==============================] - 0s 45ms/step\n",
            "13\n",
            "2/2 [==============================] - 0s 39ms/step\n",
            "14\n",
            "2/2 [==============================] - 0s 40ms/step\n",
            "15\n",
            "2/2 [==============================] - 0s 40ms/step\n",
            "16\n",
            "2/2 [==============================] - 0s 44ms/step\n",
            "17\n",
            "2/2 [==============================] - 0s 47ms/step\n",
            "18\n",
            "2/2 [==============================] - 0s 39ms/step\n",
            "19\n",
            "2/2 [==============================] - 0s 43ms/step\n",
            "20\n",
            "2/2 [==============================] - 0s 45ms/step\n",
            "21\n",
            "2/2 [==============================] - 0s 40ms/step\n",
            "22\n",
            "2/2 [==============================] - 0s 44ms/step\n",
            "23\n",
            "2/2 [==============================] - 0s 40ms/step\n",
            "24\n",
            "2/2 [==============================] - 0s 40ms/step\n",
            "25\n",
            "2/2 [==============================] - 0s 46ms/step\n",
            "26\n",
            "2/2 [==============================] - 0s 40ms/step\n",
            "27\n",
            "2/2 [==============================] - 0s 39ms/step\n",
            "28\n",
            "2/2 [==============================] - 0s 54ms/step\n",
            "29\n",
            "2/2 [==============================] - 0s 43ms/step\n",
            "30\n",
            "2/2 [==============================] - 0s 47ms/step\n",
            "31\n",
            "2/2 [==============================] - 0s 40ms/step\n",
            "32\n",
            "2/2 [==============================] - 0s 39ms/step\n",
            "33\n",
            "2/2 [==============================] - 0s 44ms/step\n",
            "34\n",
            "2/2 [==============================] - 0s 40ms/step\n",
            "35\n",
            "2/2 [==============================] - 0s 60ms/step\n",
            "36\n",
            "2/2 [==============================] - 0s 40ms/step\n",
            "37\n",
            "2/2 [==============================] - 0s 50ms/step\n",
            "38\n",
            "2/2 [==============================] - 0s 41ms/step\n",
            "39\n",
            "2/2 [==============================] - 0s 39ms/step\n",
            "40\n",
            "2/2 [==============================] - 0s 41ms/step\n",
            "41\n",
            "2/2 [==============================] - 0s 40ms/step\n",
            "42\n",
            "2/2 [==============================] - 0s 53ms/step\n",
            "43\n",
            "2/2 [==============================] - 0s 40ms/step\n",
            "44\n",
            "2/2 [==============================] - 0s 40ms/step\n",
            "45\n",
            "2/2 [==============================] - 0s 40ms/step\n",
            "46\n",
            "2/2 [==============================] - 0s 40ms/step\n",
            "47\n",
            "2/2 [==============================] - 0s 47ms/step\n",
            "48\n",
            "2/2 [==============================] - 0s 43ms/step\n",
            "49\n",
            "2/2 [==============================] - 0s 40ms/step\n",
            "50\n",
            "BLEU score on validation dataset: 0.6975\n"
          ]
        }
      ]
    },
    {
      "cell_type": "code",
      "execution_count": null,
      "metadata": {
        "id": "rj3wLwSW7EMb",
        "colab": {
          "base_uri": "https://localhost:8080/",
          "height": 472
        },
        "outputId": "47050940-1bb0-423c-a590-0d7a62876208"
      },
      "outputs": [
        {
          "output_type": "display_data",
          "data": {
            "text/plain": [
              "<Figure size 640x480 with 1 Axes>"
            ],
            "image/png": "[encoded data removed]"
          },
          "metadata": {}
        }
      ],
      "source": [
        "plt.plot(history.history['loss'])\n",
        "plt.plot(history.history['val_loss'])\n",
        "plt.title('model_loss')\n",
        "plt.ylabel('loss')\n",
        "plt.xlabel('epoch')\n",
        "plt.legend(['train', 'val'], loc='upper left')\n",
        "plt.show()"
      ]
    },
    {
      "cell_type": "code",
      "execution_count": null,
      "metadata": {
        "id": "PsF_wos17EOC"
      },
      "outputs": [],
      "source": [
        "plt.plot(history.history['accuracy'])\n",
        "plt.plot(history.history['val_accuracy'])\n",
        "\n",
        "plt.title('model_accuracy')\n",
        "plt.ylabel('accuracy')\n",
        "plt.xlabel('epoch')\n",
        "plt.legend(['train', 'val'], loc='upper left')\n",
        "plt.show()"
      ]
    },
    {
      "cell_type": "markdown",
      "metadata": {
        "id": "GPy87_oDLYpA"
      },
      "source": [
        "## Evaluation"
      ]
    },
    {
      "cell_type": "code",
      "execution_count": null,
      "metadata": {
        "id": "cRpieVKYLZ19",
        "colab": {
          "base_uri": "https://localhost:8080/"
        },
        "outputId": "c2be02d1-9637-467b-a6d2-d76503989bb1"
      },
      "outputs": [
        {
          "output_type": "stream",
          "name": "stdout",
          "text": [
            "748/748 [==============================] - 90s 77ms/step - loss: 0.5730\n"
          ]
        },
        {
          "output_type": "execute_result",
          "data": {
            "text/plain": [
              "0.5729756951332092"
            ]
          },
          "metadata": {},
          "execution_count": 32
        }
      ],
      "source": [
        "seq2seq_gru.evaluate(val_dataset)"
      ]
    },
    {
      "cell_type": "code",
      "source": [
        "# Instantiate the BLEU metric class\n",
        "bleu = BLEU()\n",
        "count = 0\n",
        "# Loop over the validation dataset\n",
        "for x, y in val_dataset:\n",
        "  #\n",
        "  if count==550:\n",
        "    break\n",
        "  # Get the input and shifted target from x\n",
        "  input = x[\"input_1\"]\n",
        "  shifted_target = x[\"input_2\"]\n",
        "\n",
        "  # Predict the output using the model\n",
        "  output = seq2seq_gru.predict([input, shifted_target])\n",
        "\n",
        "  count+=1\n",
        "  print(count)\n",
        "\n",
        "  # Update the BLEU metric state with the true and predicted target\n",
        "  bleu.update_state(y, output)\n",
        "\n",
        "\n",
        "\n",
        "# Get the final BLEU score result\n",
        "bleu_score = bleu.result()\n",
        "\n",
        "# Print the BLEU score\n",
        "print(f\"BLEU score on validation dataset: {bleu_score:.4f}\")\n"
      ],
      "metadata": {
        "id": "ktBnJVLF37Eg"
      },
      "execution_count": null,
      "outputs": []
    },
    {
      "cell_type": "markdown",
      "source": [
        "#Saving"
      ],
      "metadata": {
        "id": "Ivr657qEGLOL"
      }
    },
    {
      "cell_type": "code",
      "source": [
        "from tensorflow.keras.models import save_model\n",
        "\n"
      ],
      "metadata": {
        "id": "fBehYurQGNPc"
      },
      "execution_count": null,
      "outputs": []
    },
    {
      "cell_type": "markdown",
      "metadata": {
        "id": "4i1ajAymaDoF"
      },
      "source": [
        "# Testing"
      ]
    },
    {
      "cell_type": "code",
      "source": [
        "from tensorflow.keras.models import load_model\n",
        "seq2seq_gru = load_model(\"/content/drive/MyDrive/NMT/seq2seq_gru.h5\")\n"
      ],
      "metadata": {
        "id": "_Eag8I-HJLBm"
      },
      "execution_count": null,
      "outputs": []
    },
    {
      "cell_type": "code",
      "execution_count": null,
      "metadata": {
        "id": "FnEza6wFDhrI"
      },
      "outputs": [],
      "source": [
        "index_to_word={x:y for x, y in zip(range(len(french_vectorize_layer.get_vocabulary())),\n",
        "                                   french_vectorize_layer.get_vocabulary())}"
      ]
    },
    {
      "cell_type": "code",
      "execution_count": null,
      "metadata": {
        "id": "j_H7mglPugSI"
      },
      "outputs": [],
      "source": [
        "def translator(english_sentence):\n",
        "  tokenized_english_sentence=english_vectorize_layer([english_sentence])\n",
        "  shifted_target='starttoken'\n",
        "\n",
        "  for i in range(FRENCH_SEQUENCE_LENGTH):\n",
        "    tokenized_shifted_target=french_vectorize_layer([shifted_target])\n",
        "    output=seq2seq_gru.predict([tokenized_english_sentence,tokenized_shifted_target])\n",
        "    french_word_index=tf.argmax(output,axis=-1)[0][i].numpy()\n",
        "    current_word=index_to_word[french_word_index]\n",
        "    if current_word=='endtoken':\n",
        "      break\n",
        "    shifted_target+=' '+current_word\n",
        "  return shifted_target[11:]"
      ]
    },
    {
      "cell_type": "code",
      "execution_count": null,
      "metadata": {
        "id": "UAMeQb2vytcp",
        "colab": {
          "base_uri": "https://localhost:8080/",
          "height": 122
        },
        "outputId": "336c20c8-077f-42b4-929b-0dc2a5d1275b"
      },
      "outputs": [
        {
          "output_type": "stream",
          "name": "stdout",
          "text": [
            "1/1 [==============================] - 0s 23ms/step\n",
            "1/1 [==============================] - 0s 23ms/step\n",
            "1/1 [==============================] - 0s 25ms/step\n",
            "1/1 [==============================] - 0s 28ms/step\n",
            "1/1 [==============================] - 0s 23ms/step\n"
          ]
        },
        {
          "output_type": "execute_result",
          "data": {
            "text/plain": [
              "'que se passetil ici'"
            ],
            "application/vnd.google.colaboratory.intrinsic+json": {
              "type": "string"
            }
          },
          "metadata": {},
          "execution_count": 47
        }
      ],
      "source": [
        "translator('what is happening here?')"
      ]
    },
    {
      "cell_type": "code",
      "execution_count": null,
      "metadata": {
        "id": "tmLRAb7fFuO6"
      },
      "outputs": [],
      "source": [
        "word_to_index={y:x for x, y in zip(range(len(french_vectorize_layer.get_vocabulary())),\n",
        "                                   french_vectorize_layer.get_vocabulary())}"
      ]
    },
    {
      "cell_type": "code",
      "source": [
        "from tensorflow.keras.models import load_model\n",
        "seq2seq_gru_test = load_model(\"/content/drive/MyDrive/NMT/seq2seq_gru.h5\")\n"
      ],
      "metadata": {
        "id": "j5DMkeGgvVtO"
      },
      "execution_count": null,
      "outputs": []
    },
    {
      "cell_type": "code",
      "execution_count": null,
      "metadata": {
        "id": "FwLFXSwHzB9_"
      },
      "outputs": [],
      "source": [
        "import pickle\n",
        "from tensorflow.keras.layers import TextVectorization\n",
        "english_layer_data = pickle.load(open(\"/content/drive/MyDrive/NMT/english_vectorize_layer.pkl\", \"rb\"))\n",
        "french_layer_data = pickle.load(open(\"/content/drive/MyDrive/NMT/french_vectorize_layer.pkl\", \"rb\"))\n",
        "english_vectorize_layer_test = TextVectorization.from_config(english_layer_data['config'])\n",
        "french_vectorize_layer_test = TextVectorization.from_config(french_layer_data['config'])\n",
        "english_vectorize_layer_test.set_weights(english_layer_data['weights'])\n",
        "french_vectorize_layer_test.set_weights(french_layer_data['weights'])\n"
      ]
    },
    {
      "cell_type": "code",
      "source": [
        "def translator_test(english_sentence):\n",
        "  tokenized_english_sentence=english_vectorize_layer_test([english_sentence])\n",
        "  shifted_target='starttoken'\n",
        "\n",
        "  for i in range(FRENCH_SEQUENCE_LENGTH):\n",
        "    tokenized_shifted_target=french_vectorize_layer_test([shifted_target])\n",
        "    output=seq2seq_gru.predict([tokenized_english_sentence,tokenized_shifted_target])\n",
        "    french_word_index=tf.argmax(output,axis=-1)[0][i].numpy()\n",
        "    current_word=index_to_word[french_word_index]\n",
        "    if current_word=='endtoken':\n",
        "      break\n",
        "    shifted_target+=' '+current_word\n",
        "  return shifted_target[11:]"
      ],
      "metadata": {
        "id": "JlbcVwmrJwa_"
      },
      "execution_count": null,
      "outputs": []
    },
    {
      "cell_type": "code",
      "source": [
        "translator_test('what is happening here?')"
      ],
      "metadata": {
        "colab": {
          "base_uri": "https://localhost:8080/",
          "height": 122
        },
        "id": "S2Yf7_TWKL6C",
        "outputId": "72501401-f044-4390-80e5-0ec318fa5783"
      },
      "execution_count": null,
      "outputs": [
        {
          "output_type": "stream",
          "name": "stdout",
          "text": [
            "1/1 [==============================] - 0s 40ms/step\n",
            "1/1 [==============================] - 0s 47ms/step\n",
            "1/1 [==============================] - 0s 37ms/step\n",
            "1/1 [==============================] - 0s 33ms/step\n",
            "1/1 [==============================] - 0s 105ms/step\n"
          ]
        },
        {
          "output_type": "execute_result",
          "data": {
            "text/plain": [
              "'que se passetil ici'"
            ],
            "application/vnd.google.colaboratory.intrinsic+json": {
              "type": "string"
            }
          },
          "metadata": {},
          "execution_count": 60
        }
      ]
    },
    {
      "cell_type": "code",
      "source": [
        "# Instantiate the BLEU metric class\n",
        "bleu = BLEU()\n",
        "count = 0\n",
        "# Loop over the validation dataset\n",
        "for x, y in val_dataset:\n",
        "  #\n",
        "  if count==550:\n",
        "    break\n",
        "  # Get the input and shifted target from x\n",
        "  input = x[\"input_1\"]\n",
        "  shifted_target = x[\"input_2\"]\n",
        "\n",
        "  # Predict the output using the model\n",
        "  output = seq2seq_gru_test.predict([input, shifted_target])\n",
        "\n",
        "  count+=1\n",
        "  print(count)\n",
        "\n",
        "  # Update the BLEU metric state with the true and predicted target\n",
        "  bleu.update_state(y, output)\n",
        "\n",
        "\n",
        "\n",
        "# Get the final BLEU score result\n",
        "bleu_score = bleu.result()\n",
        "\n",
        "# Print the BLEU score\n",
        "print(f\"BLEU score on validation dataset: {bleu_score:.4f}\")\n"
      ],
      "metadata": {
        "colab": {
          "base_uri": "https://localhost:8080/"
        },
        "id": "E4AcmGBwKM34",
        "outputId": "31a45f20-032c-4f0a-cf09-6d73f97f6f51"
      },
      "execution_count": null,
      "outputs": [
        {
          "output_type": "stream",
          "name": "stdout",
          "text": [
            "2/2 [==============================] - 1s 11ms/step\n"
          ]
        },
        {
          "output_type": "stream",
          "name": "stderr",
          "text": [
            "WARNING:tensorflow:AutoGraph could not transform <bound method BLEU.update_state of <__main__.BLEU object at 0x78cb3029fa30>> and will run it as-is.\n",
            "Please report this to the TensorFlow team. When filing the bug, set the verbosity to 10 (on Linux, `export AUTOGRAPH_VERBOSITY=10`) and attach the full output.\n",
            "Cause: not enough values to unpack (expected 2, got 0)\n",
            "To silence this warning, decorate the function with @tf.autograph.experimental.do_not_convert\n"
          ]
        },
        {
          "output_type": "stream",
          "name": "stdout",
          "text": [
            "1\n",
            "WARNING: AutoGraph could not transform <bound method BLEU.update_state of <__main__.BLEU object at 0x78cb3029fa30>> and will run it as-is.\n",
            "Please report this to the TensorFlow team. When filing the bug, set the verbosity to 10 (on Linux, `export AUTOGRAPH_VERBOSITY=10`) and attach the full output.\n",
            "Cause: not enough values to unpack (expected 2, got 0)\n",
            "To silence this warning, decorate the function with @tf.autograph.experimental.do_not_convert\n",
            "2/2 [==============================] - 0s 31ms/step\n",
            "2\n",
            "2/2 [==============================] - 0s 32ms/step\n",
            "3\n",
            "2/2 [==============================] - 0s 32ms/step\n",
            "4\n",
            "2/2 [==============================] - 0s 31ms/step\n",
            "5\n",
            "2/2 [==============================] - 0s 32ms/step\n",
            "6\n",
            "2/2 [==============================] - 0s 31ms/step\n",
            "7\n",
            "2/2 [==============================] - 0s 32ms/step\n",
            "8\n",
            "2/2 [==============================] - 0s 32ms/step\n",
            "9\n",
            "2/2 [==============================] - 0s 31ms/step\n",
            "10\n",
            "2/2 [==============================] - 0s 31ms/step\n",
            "11\n",
            "2/2 [==============================] - 0s 31ms/step\n",
            "12\n",
            "2/2 [==============================] - 0s 31ms/step\n",
            "13\n",
            "2/2 [==============================] - 0s 33ms/step\n",
            "14\n",
            "2/2 [==============================] - 0s 31ms/step\n",
            "15\n",
            "2/2 [==============================] - 0s 32ms/step\n",
            "16\n",
            "2/2 [==============================] - 0s 31ms/step\n",
            "17\n",
            "2/2 [==============================] - 0s 31ms/step\n",
            "18\n",
            "2/2 [==============================] - 0s 32ms/step\n",
            "19\n",
            "2/2 [==============================] - 0s 32ms/step\n",
            "20\n",
            "2/2 [==============================] - 0s 32ms/step\n",
            "21\n",
            "2/2 [==============================] - 0s 31ms/step\n",
            "22\n",
            "2/2 [==============================] - 0s 31ms/step\n",
            "23\n",
            "2/2 [==============================] - 0s 37ms/step\n",
            "24\n",
            "2/2 [==============================] - 0s 33ms/step\n",
            "25\n",
            "2/2 [==============================] - 0s 31ms/step\n",
            "26\n",
            "2/2 [==============================] - 0s 32ms/step\n",
            "27\n",
            "2/2 [==============================] - 0s 31ms/step\n",
            "28\n",
            "2/2 [==============================] - 0s 32ms/step\n",
            "29\n",
            "2/2 [==============================] - 0s 31ms/step\n",
            "30\n",
            "2/2 [==============================] - 0s 32ms/step\n",
            "31\n",
            "2/2 [==============================] - 0s 32ms/step\n",
            "32\n",
            "2/2 [==============================] - 0s 32ms/step\n",
            "33\n",
            "2/2 [==============================] - 0s 31ms/step\n",
            "34\n",
            "2/2 [==============================] - 0s 31ms/step\n",
            "35\n",
            "2/2 [==============================] - 0s 31ms/step\n",
            "36\n",
            "2/2 [==============================] - 0s 33ms/step\n",
            "37\n",
            "2/2 [==============================] - 0s 32ms/step\n",
            "38\n",
            "2/2 [==============================] - 0s 31ms/step\n",
            "39\n",
            "2/2 [==============================] - 0s 32ms/step\n",
            "40\n",
            "2/2 [==============================] - 0s 31ms/step\n",
            "41\n",
            "2/2 [==============================] - 0s 36ms/step\n",
            "42\n",
            "2/2 [==============================] - 0s 31ms/step\n",
            "43\n",
            "2/2 [==============================] - 0s 31ms/step\n",
            "44\n",
            "2/2 [==============================] - 0s 31ms/step\n",
            "45\n",
            "2/2 [==============================] - 0s 38ms/step\n",
            "46\n",
            "2/2 [==============================] - 0s 31ms/step\n",
            "47\n",
            "2/2 [==============================] - 0s 31ms/step\n",
            "48\n",
            "2/2 [==============================] - 0s 32ms/step\n",
            "49\n",
            "2/2 [==============================] - 0s 32ms/step\n",
            "50\n",
            "2/2 [==============================] - 0s 32ms/step\n",
            "51\n",
            "2/2 [==============================] - 0s 31ms/step\n",
            "52\n",
            "2/2 [==============================] - 0s 31ms/step\n",
            "53\n",
            "2/2 [==============================] - 0s 32ms/step\n",
            "54\n",
            "2/2 [==============================] - 0s 31ms/step\n",
            "55\n",
            "2/2 [==============================] - 0s 31ms/step\n",
            "56\n",
            "2/2 [==============================] - 0s 32ms/step\n",
            "57\n",
            "2/2 [==============================] - 0s 31ms/step\n",
            "58\n",
            "2/2 [==============================] - 0s 32ms/step\n",
            "59\n",
            "2/2 [==============================] - 0s 31ms/step\n",
            "60\n",
            "2/2 [==============================] - 0s 34ms/step\n",
            "61\n",
            "2/2 [==============================] - 0s 32ms/step\n",
            "62\n",
            "2/2 [==============================] - 0s 32ms/step\n",
            "63\n",
            "2/2 [==============================] - 0s 31ms/step\n",
            "64\n",
            "2/2 [==============================] - 0s 31ms/step\n",
            "65\n",
            "2/2 [==============================] - 0s 33ms/step\n",
            "66\n",
            "2/2 [==============================] - 0s 31ms/step\n",
            "67\n",
            "2/2 [==============================] - 0s 35ms/step\n",
            "68\n",
            "2/2 [==============================] - 0s 32ms/step\n",
            "69\n",
            "2/2 [==============================] - 0s 31ms/step\n",
            "70\n",
            "2/2 [==============================] - 0s 33ms/step\n",
            "71\n",
            "2/2 [==============================] - 0s 32ms/step\n",
            "72\n",
            "2/2 [==============================] - 0s 32ms/step\n",
            "73\n",
            "2/2 [==============================] - 0s 31ms/step\n",
            "74\n",
            "2/2 [==============================] - 0s 32ms/step\n",
            "75\n",
            "2/2 [==============================] - 0s 33ms/step\n",
            "76\n",
            "2/2 [==============================] - 0s 31ms/step\n",
            "77\n",
            "2/2 [==============================] - 0s 31ms/step\n",
            "78\n",
            "2/2 [==============================] - 0s 32ms/step\n",
            "79\n",
            "2/2 [==============================] - 0s 32ms/step\n",
            "80\n",
            "2/2 [==============================] - 0s 31ms/step\n",
            "81\n",
            "2/2 [==============================] - 0s 32ms/step\n",
            "82\n",
            "2/2 [==============================] - 0s 34ms/step\n",
            "83\n",
            "2/2 [==============================] - 0s 33ms/step\n",
            "84\n",
            "2/2 [==============================] - 0s 32ms/step\n",
            "85\n",
            "2/2 [==============================] - 0s 31ms/step\n",
            "86\n",
            "2/2 [==============================] - 0s 32ms/step\n",
            "87\n",
            "2/2 [==============================] - 0s 33ms/step\n",
            "88\n",
            "2/2 [==============================] - 0s 31ms/step\n",
            "89\n",
            "2/2 [==============================] - 0s 31ms/step\n",
            "90\n",
            "2/2 [==============================] - 0s 31ms/step\n",
            "91\n",
            "2/2 [==============================] - 0s 30ms/step\n",
            "92\n",
            "2/2 [==============================] - 0s 32ms/step\n",
            "93\n",
            "2/2 [==============================] - 0s 32ms/step\n",
            "94\n",
            "2/2 [==============================] - 0s 32ms/step\n",
            "95\n",
            "2/2 [==============================] - 0s 31ms/step\n",
            "96\n",
            "2/2 [==============================] - 0s 30ms/step\n",
            "97\n",
            "2/2 [==============================] - 0s 37ms/step\n",
            "98\n",
            "2/2 [==============================] - 0s 32ms/step\n",
            "99\n",
            "2/2 [==============================] - 0s 32ms/step\n",
            "100\n",
            "2/2 [==============================] - 0s 32ms/step\n",
            "101\n",
            "2/2 [==============================] - 0s 32ms/step\n",
            "102\n",
            "2/2 [==============================] - 0s 31ms/step\n",
            "103\n",
            "2/2 [==============================] - 0s 31ms/step\n",
            "104\n",
            "2/2 [==============================] - 0s 32ms/step\n",
            "105\n",
            "2/2 [==============================] - 0s 32ms/step\n",
            "106\n",
            "2/2 [==============================] - 0s 31ms/step\n",
            "107\n",
            "2/2 [==============================] - 0s 31ms/step\n",
            "108\n",
            "2/2 [==============================] - 0s 32ms/step\n",
            "109\n",
            "2/2 [==============================] - 0s 31ms/step\n",
            "110\n",
            "2/2 [==============================] - 0s 32ms/step\n",
            "111\n",
            "2/2 [==============================] - 0s 32ms/step\n",
            "112\n",
            "2/2 [==============================] - 0s 32ms/step\n",
            "113\n",
            "2/2 [==============================] - 0s 33ms/step\n",
            "114\n",
            "2/2 [==============================] - 0s 32ms/step\n",
            "115\n",
            "2/2 [==============================] - 0s 32ms/step\n",
            "116\n",
            "2/2 [==============================] - 0s 31ms/step\n",
            "117\n",
            "2/2 [==============================] - 0s 32ms/step\n",
            "118\n",
            "2/2 [==============================] - 0s 32ms/step\n",
            "119\n",
            "2/2 [==============================] - 0s 23ms/step\n",
            "120\n",
            "2/2 [==============================] - 0s 31ms/step\n",
            "121\n",
            "2/2 [==============================] - 0s 31ms/step\n",
            "122\n",
            "2/2 [==============================] - 0s 31ms/step\n",
            "123\n",
            "2/2 [==============================] - 0s 31ms/step\n",
            "124\n",
            "2/2 [==============================] - 0s 32ms/step\n",
            "125\n",
            "2/2 [==============================] - 0s 34ms/step\n",
            "126\n",
            "2/2 [==============================] - 0s 32ms/step\n",
            "127\n",
            "2/2 [==============================] - 0s 31ms/step\n",
            "128\n",
            "2/2 [==============================] - 0s 31ms/step\n",
            "129\n",
            "2/2 [==============================] - 0s 33ms/step\n",
            "130\n",
            "2/2 [==============================] - 0s 32ms/step\n",
            "131\n",
            "2/2 [==============================] - 0s 32ms/step\n",
            "132\n",
            "2/2 [==============================] - 0s 32ms/step\n",
            "133\n",
            "2/2 [==============================] - 0s 31ms/step\n",
            "134\n",
            "2/2 [==============================] - 0s 31ms/step\n",
            "135\n",
            "2/2 [==============================] - 0s 33ms/step\n",
            "136\n",
            "2/2 [==============================] - 0s 31ms/step\n",
            "137\n",
            "2/2 [==============================] - 0s 32ms/step\n",
            "138\n",
            "2/2 [==============================] - 0s 31ms/step\n",
            "139\n",
            "2/2 [==============================] - 0s 36ms/step\n",
            "140\n",
            "2/2 [==============================] - 0s 31ms/step\n",
            "141\n",
            "2/2 [==============================] - 0s 33ms/step\n",
            "142\n",
            "2/2 [==============================] - 0s 34ms/step\n",
            "143\n",
            "2/2 [==============================] - 0s 34ms/step\n",
            "144\n",
            "2/2 [==============================] - 0s 32ms/step\n",
            "145\n",
            "2/2 [==============================] - 0s 32ms/step\n",
            "146\n",
            "2/2 [==============================] - 0s 31ms/step\n",
            "147\n",
            "2/2 [==============================] - 0s 31ms/step\n",
            "148\n",
            "2/2 [==============================] - 0s 32ms/step\n",
            "149\n",
            "2/2 [==============================] - 0s 32ms/step\n",
            "150\n",
            "2/2 [==============================] - 0s 32ms/step\n",
            "151\n",
            "2/2 [==============================] - 0s 31ms/step\n",
            "152\n",
            "2/2 [==============================] - 0s 30ms/step\n",
            "153\n",
            "2/2 [==============================] - 0s 32ms/step\n",
            "154\n",
            "2/2 [==============================] - 0s 31ms/step\n",
            "155\n",
            "2/2 [==============================] - 0s 32ms/step\n",
            "156\n",
            "2/2 [==============================] - 0s 32ms/step\n",
            "157\n",
            "2/2 [==============================] - 0s 31ms/step\n",
            "158\n",
            "2/2 [==============================] - 0s 31ms/step\n",
            "159\n",
            "2/2 [==============================] - 0s 32ms/step\n",
            "160\n",
            "2/2 [==============================] - 0s 31ms/step\n",
            "161\n",
            "2/2 [==============================] - 0s 32ms/step\n",
            "162\n",
            "2/2 [==============================] - 0s 31ms/step\n",
            "163\n",
            "2/2 [==============================] - 0s 32ms/step\n",
            "164\n",
            "2/2 [==============================] - 0s 33ms/step\n",
            "165\n",
            "2/2 [==============================] - 0s 31ms/step\n",
            "166\n",
            "2/2 [==============================] - 0s 34ms/step\n",
            "167\n",
            "2/2 [==============================] - 0s 33ms/step\n",
            "168\n",
            "2/2 [==============================] - 0s 31ms/step\n",
            "169\n",
            "2/2 [==============================] - 0s 32ms/step\n",
            "170\n",
            "2/2 [==============================] - 0s 32ms/step\n",
            "171\n",
            "2/2 [==============================] - 0s 32ms/step\n",
            "172\n",
            "2/2 [==============================] - 0s 32ms/step\n",
            "173\n",
            "2/2 [==============================] - 0s 31ms/step\n",
            "174\n",
            "2/2 [==============================] - 0s 31ms/step\n",
            "175\n",
            "2/2 [==============================] - 0s 32ms/step\n",
            "176\n",
            "2/2 [==============================] - 0s 31ms/step\n",
            "177\n",
            "2/2 [==============================] - 0s 32ms/step\n",
            "178\n",
            "2/2 [==============================] - 0s 33ms/step\n",
            "179\n",
            "2/2 [==============================] - 0s 31ms/step\n",
            "180\n",
            "2/2 [==============================] - 0s 31ms/step\n",
            "181\n",
            "2/2 [==============================] - 0s 31ms/step\n",
            "182\n",
            "2/2 [==============================] - 0s 31ms/step\n",
            "183\n",
            "2/2 [==============================] - 0s 32ms/step\n",
            "184\n",
            "2/2 [==============================] - 0s 31ms/step\n",
            "185\n",
            "2/2 [==============================] - 0s 33ms/step\n",
            "186\n",
            "2/2 [==============================] - 0s 31ms/step\n",
            "187\n",
            "2/2 [==============================] - 0s 32ms/step\n",
            "188\n",
            "2/2 [==============================] - 0s 32ms/step\n",
            "189\n",
            "2/2 [==============================] - 0s 31ms/step\n",
            "190\n",
            "2/2 [==============================] - 0s 32ms/step\n",
            "191\n",
            "2/2 [==============================] - 0s 31ms/step\n",
            "192\n",
            "2/2 [==============================] - 0s 32ms/step\n",
            "193\n",
            "2/2 [==============================] - 0s 31ms/step\n",
            "194\n",
            "2/2 [==============================] - 0s 30ms/step\n",
            "195\n",
            "2/2 [==============================] - 0s 31ms/step\n",
            "196\n",
            "2/2 [==============================] - 0s 31ms/step\n",
            "197\n",
            "2/2 [==============================] - 0s 32ms/step\n",
            "198\n",
            "2/2 [==============================] - 0s 32ms/step\n",
            "199\n",
            "2/2 [==============================] - 0s 32ms/step\n",
            "200\n",
            "2/2 [==============================] - 0s 31ms/step\n",
            "201\n",
            "2/2 [==============================] - 0s 31ms/step\n",
            "202\n",
            "2/2 [==============================] - 0s 32ms/step\n",
            "203\n",
            "2/2 [==============================] - 0s 32ms/step\n",
            "204\n",
            "2/2 [==============================] - 0s 32ms/step\n",
            "205\n",
            "2/2 [==============================] - 0s 31ms/step\n",
            "206\n",
            "2/2 [==============================] - 0s 31ms/step\n",
            "207\n",
            "2/2 [==============================] - 0s 33ms/step\n",
            "208\n",
            "2/2 [==============================] - 0s 31ms/step\n",
            "209\n",
            "2/2 [==============================] - 0s 32ms/step\n",
            "210\n",
            "2/2 [==============================] - 0s 32ms/step\n",
            "211\n",
            "2/2 [==============================] - 0s 32ms/step\n",
            "212\n",
            "2/2 [==============================] - 0s 31ms/step\n",
            "213\n",
            "2/2 [==============================] - 0s 31ms/step\n",
            "214\n",
            "2/2 [==============================] - 0s 31ms/step\n",
            "215\n",
            "2/2 [==============================] - 0s 31ms/step\n",
            "216\n",
            "2/2 [==============================] - 0s 33ms/step\n",
            "217\n",
            "2/2 [==============================] - 0s 32ms/step\n",
            "218\n",
            "2/2 [==============================] - 0s 31ms/step\n",
            "219\n",
            "2/2 [==============================] - 0s 31ms/step\n",
            "220\n",
            "2/2 [==============================] - 0s 32ms/step\n",
            "221\n",
            "2/2 [==============================] - 0s 32ms/step\n",
            "222\n",
            "2/2 [==============================] - 0s 31ms/step\n",
            "223\n",
            "2/2 [==============================] - 0s 32ms/step\n",
            "224\n",
            "2/2 [==============================] - 0s 35ms/step\n",
            "225\n",
            "2/2 [==============================] - 0s 32ms/step\n",
            "226\n",
            "2/2 [==============================] - 0s 31ms/step\n",
            "227\n",
            "2/2 [==============================] - 0s 34ms/step\n",
            "228\n",
            "2/2 [==============================] - 0s 32ms/step\n",
            "229\n",
            "2/2 [==============================] - 0s 32ms/step\n",
            "230\n",
            "2/2 [==============================] - 0s 32ms/step\n",
            "231\n",
            "2/2 [==============================] - 0s 31ms/step\n",
            "232\n",
            "2/2 [==============================] - 0s 32ms/step\n",
            "233\n",
            "2/2 [==============================] - 0s 31ms/step\n",
            "234\n",
            "2/2 [==============================] - 0s 32ms/step\n",
            "235\n",
            "2/2 [==============================] - 0s 31ms/step\n",
            "236\n",
            "2/2 [==============================] - 0s 31ms/step\n",
            "237\n",
            "2/2 [==============================] - 0s 32ms/step\n",
            "238\n",
            "2/2 [==============================] - 0s 31ms/step\n",
            "239\n",
            "2/2 [==============================] - 0s 32ms/step\n",
            "240\n",
            "2/2 [==============================] - 0s 30ms/step\n",
            "241\n",
            "2/2 [==============================] - 0s 31ms/step\n",
            "242\n",
            "2/2 [==============================] - 0s 31ms/step\n",
            "243\n",
            "2/2 [==============================] - 0s 31ms/step\n",
            "244\n",
            "2/2 [==============================] - 0s 31ms/step\n",
            "245\n",
            "2/2 [==============================] - 0s 31ms/step\n",
            "246\n",
            "2/2 [==============================] - 0s 31ms/step\n",
            "247\n",
            "2/2 [==============================] - 0s 32ms/step\n",
            "248\n",
            "2/2 [==============================] - 0s 32ms/step\n",
            "249\n",
            "2/2 [==============================] - 0s 31ms/step\n",
            "250\n",
            "2/2 [==============================] - 0s 34ms/step\n",
            "251\n",
            "2/2 [==============================] - 0s 32ms/step\n",
            "252\n",
            "2/2 [==============================] - 0s 31ms/step\n",
            "253\n",
            "2/2 [==============================] - 0s 31ms/step\n",
            "254\n",
            "2/2 [==============================] - 0s 32ms/step\n",
            "255\n",
            "2/2 [==============================] - 0s 31ms/step\n",
            "256\n",
            "2/2 [==============================] - 0s 31ms/step\n",
            "257\n",
            "2/2 [==============================] - 0s 31ms/step\n",
            "258\n",
            "2/2 [==============================] - 0s 31ms/step\n",
            "259\n",
            "2/2 [==============================] - 0s 32ms/step\n",
            "260\n",
            "2/2 [==============================] - 0s 32ms/step\n",
            "261\n",
            "2/2 [==============================] - 0s 32ms/step\n",
            "262\n",
            "2/2 [==============================] - 0s 32ms/step\n",
            "263\n",
            "2/2 [==============================] - 0s 32ms/step\n",
            "264\n",
            "2/2 [==============================] - 0s 31ms/step\n",
            "265\n",
            "2/2 [==============================] - 0s 35ms/step\n",
            "266\n",
            "2/2 [==============================] - 0s 31ms/step\n",
            "267\n",
            "2/2 [==============================] - 0s 31ms/step\n",
            "268\n",
            "2/2 [==============================] - 0s 32ms/step\n",
            "269\n",
            "2/2 [==============================] - 0s 31ms/step\n",
            "270\n",
            "2/2 [==============================] - 0s 32ms/step\n",
            "271\n",
            "2/2 [==============================] - 0s 31ms/step\n",
            "272\n",
            "2/2 [==============================] - 0s 31ms/step\n",
            "273\n",
            "2/2 [==============================] - 0s 32ms/step\n",
            "274\n",
            "2/2 [==============================] - 0s 32ms/step\n",
            "275\n",
            "2/2 [==============================] - 0s 32ms/step\n",
            "276\n",
            "2/2 [==============================] - 0s 32ms/step\n",
            "277\n",
            "2/2 [==============================] - 0s 32ms/step\n",
            "278\n",
            "2/2 [==============================] - 0s 32ms/step\n",
            "279\n",
            "2/2 [==============================] - 0s 30ms/step\n",
            "280\n",
            "2/2 [==============================] - 0s 31ms/step\n",
            "281\n",
            "2/2 [==============================] - 0s 31ms/step\n",
            "282\n",
            "2/2 [==============================] - 0s 32ms/step\n",
            "283\n",
            "2/2 [==============================] - 0s 31ms/step\n",
            "284\n",
            "2/2 [==============================] - 0s 31ms/step\n",
            "285\n",
            "2/2 [==============================] - 0s 32ms/step\n",
            "286\n",
            "2/2 [==============================] - 0s 32ms/step\n",
            "287\n",
            "2/2 [==============================] - 0s 32ms/step\n",
            "288\n",
            "2/2 [==============================] - 0s 35ms/step\n",
            "289\n",
            "2/2 [==============================] - 0s 31ms/step\n",
            "290\n",
            "2/2 [==============================] - 0s 32ms/step\n",
            "291\n",
            "2/2 [==============================] - 0s 31ms/step\n",
            "292\n",
            "2/2 [==============================] - 0s 32ms/step\n",
            "293\n",
            "2/2 [==============================] - 0s 32ms/step\n",
            "294\n",
            "2/2 [==============================] - 0s 31ms/step\n",
            "295\n",
            "2/2 [==============================] - 0s 32ms/step\n",
            "296\n",
            "2/2 [==============================] - 0s 31ms/step\n",
            "297\n",
            "2/2 [==============================] - 0s 31ms/step\n",
            "298\n",
            "2/2 [==============================] - 0s 31ms/step\n",
            "299\n",
            "2/2 [==============================] - 0s 31ms/step\n",
            "300\n",
            "2/2 [==============================] - 0s 31ms/step\n",
            "301\n",
            "2/2 [==============================] - 0s 32ms/step\n",
            "302\n",
            "2/2 [==============================] - 0s 31ms/step\n",
            "303\n",
            "2/2 [==============================] - 0s 32ms/step\n",
            "304\n",
            "2/2 [==============================] - 0s 32ms/step\n",
            "305\n",
            "2/2 [==============================] - 0s 33ms/step\n",
            "306\n",
            "2/2 [==============================] - 0s 31ms/step\n",
            "307\n",
            "2/2 [==============================] - 0s 32ms/step\n",
            "308\n",
            "2/2 [==============================] - 0s 31ms/step\n",
            "309\n",
            "2/2 [==============================] - 0s 31ms/step\n",
            "310\n",
            "2/2 [==============================] - 0s 31ms/step\n",
            "311\n",
            "2/2 [==============================] - 0s 31ms/step\n",
            "312\n",
            "2/2 [==============================] - 0s 31ms/step\n",
            "313\n",
            "2/2 [==============================] - 0s 31ms/step\n",
            "314\n",
            "2/2 [==============================] - 0s 33ms/step\n",
            "315\n",
            "2/2 [==============================] - 0s 31ms/step\n",
            "316\n",
            "2/2 [==============================] - 0s 33ms/step\n",
            "317\n",
            "2/2 [==============================] - 0s 32ms/step\n",
            "318\n",
            "2/2 [==============================] - 0s 33ms/step\n",
            "319\n",
            "2/2 [==============================] - 0s 31ms/step\n",
            "320\n",
            "2/2 [==============================] - 0s 32ms/step\n",
            "321\n",
            "2/2 [==============================] - 0s 31ms/step\n",
            "322\n",
            "2/2 [==============================] - 0s 31ms/step\n",
            "323\n",
            "2/2 [==============================] - 0s 32ms/step\n",
            "324\n",
            "2/2 [==============================] - 0s 31ms/step\n",
            "325\n",
            "2/2 [==============================] - 0s 31ms/step\n",
            "326\n",
            "2/2 [==============================] - 0s 32ms/step\n",
            "327\n",
            "2/2 [==============================] - 0s 31ms/step\n",
            "328\n",
            "2/2 [==============================] - 0s 31ms/step\n",
            "329\n",
            "2/2 [==============================] - 0s 31ms/step\n",
            "330\n",
            "2/2 [==============================] - 0s 32ms/step\n",
            "331\n",
            "2/2 [==============================] - 0s 29ms/step\n",
            "332\n",
            "2/2 [==============================] - 0s 32ms/step\n",
            "333\n",
            "2/2 [==============================] - 0s 35ms/step\n",
            "334\n",
            "2/2 [==============================] - 0s 31ms/step\n",
            "335\n",
            "2/2 [==============================] - 0s 31ms/step\n",
            "336\n",
            "2/2 [==============================] - 0s 32ms/step\n",
            "337\n",
            "2/2 [==============================] - 0s 31ms/step\n",
            "338\n",
            "2/2 [==============================] - 0s 31ms/step\n",
            "339\n",
            "2/2 [==============================] - 0s 32ms/step\n",
            "340\n",
            "2/2 [==============================] - 0s 31ms/step\n",
            "341\n",
            "2/2 [==============================] - 0s 31ms/step\n",
            "342\n",
            "2/2 [==============================] - 0s 32ms/step\n",
            "343\n",
            "2/2 [==============================] - 0s 31ms/step\n",
            "344\n",
            "2/2 [==============================] - 0s 31ms/step\n",
            "345\n",
            "2/2 [==============================] - 0s 32ms/step\n",
            "346\n",
            "2/2 [==============================] - 0s 31ms/step\n",
            "347\n",
            "2/2 [==============================] - 0s 31ms/step\n",
            "348\n",
            "2/2 [==============================] - 0s 31ms/step\n",
            "349\n",
            "2/2 [==============================] - 0s 31ms/step\n",
            "350\n",
            "2/2 [==============================] - 0s 32ms/step\n",
            "351\n",
            "2/2 [==============================] - 0s 31ms/step\n",
            "352\n",
            "2/2 [==============================] - 0s 31ms/step\n",
            "353\n",
            "2/2 [==============================] - 0s 32ms/step\n",
            "354\n",
            "2/2 [==============================] - 0s 32ms/step\n",
            "355\n",
            "2/2 [==============================] - 0s 32ms/step\n",
            "356\n",
            "2/2 [==============================] - 0s 32ms/step\n",
            "357\n",
            "2/2 [==============================] - 0s 32ms/step\n",
            "358\n",
            "2/2 [==============================] - 0s 31ms/step\n",
            "359\n",
            "2/2 [==============================] - 0s 33ms/step\n",
            "360\n",
            "2/2 [==============================] - 0s 31ms/step\n",
            "361\n",
            "2/2 [==============================] - 0s 31ms/step\n",
            "362\n",
            "2/2 [==============================] - 0s 31ms/step\n",
            "363\n",
            "2/2 [==============================] - 0s 31ms/step\n",
            "364\n",
            "2/2 [==============================] - 0s 32ms/step\n",
            "365\n",
            "2/2 [==============================] - 0s 32ms/step\n",
            "366\n",
            "2/2 [==============================] - 0s 33ms/step\n",
            "367\n",
            "2/2 [==============================] - 0s 31ms/step\n",
            "368\n",
            "2/2 [==============================] - 0s 32ms/step\n",
            "369\n",
            "2/2 [==============================] - 0s 32ms/step\n",
            "370\n",
            "2/2 [==============================] - 0s 33ms/step\n",
            "371\n",
            "2/2 [==============================] - 0s 32ms/step\n",
            "372\n",
            "2/2 [==============================] - 0s 31ms/step\n",
            "373\n",
            "2/2 [==============================] - 0s 34ms/step\n",
            "374\n",
            "2/2 [==============================] - 0s 32ms/step\n",
            "375\n",
            "2/2 [==============================] - 0s 32ms/step\n",
            "376\n",
            "2/2 [==============================] - 0s 32ms/step\n",
            "377\n",
            "2/2 [==============================] - 0s 31ms/step\n",
            "378\n",
            "2/2 [==============================] - 0s 32ms/step\n",
            "379\n",
            "2/2 [==============================] - 0s 31ms/step\n",
            "380\n",
            "2/2 [==============================] - 0s 32ms/step\n",
            "381\n",
            "2/2 [==============================] - 0s 31ms/step\n",
            "382\n",
            "2/2 [==============================] - 0s 31ms/step\n",
            "383\n",
            "2/2 [==============================] - 0s 31ms/step\n",
            "384\n",
            "2/2 [==============================] - 0s 32ms/step\n",
            "385\n",
            "2/2 [==============================] - 0s 31ms/step\n",
            "386\n",
            "2/2 [==============================] - 0s 32ms/step\n",
            "387\n",
            "2/2 [==============================] - 0s 31ms/step\n",
            "388\n",
            "2/2 [==============================] - 0s 31ms/step\n",
            "389\n",
            "2/2 [==============================] - 0s 31ms/step\n",
            "390\n",
            "2/2 [==============================] - 0s 32ms/step\n",
            "391\n",
            "2/2 [==============================] - 0s 32ms/step\n",
            "392\n",
            "2/2 [==============================] - 0s 31ms/step\n",
            "393\n",
            "2/2 [==============================] - 0s 31ms/step\n",
            "394\n",
            "2/2 [==============================] - 0s 32ms/step\n",
            "395\n",
            "2/2 [==============================] - 0s 31ms/step\n",
            "396\n",
            "2/2 [==============================] - 0s 31ms/step\n",
            "397\n",
            "2/2 [==============================] - 0s 31ms/step\n",
            "398\n",
            "2/2 [==============================] - 0s 31ms/step\n",
            "399\n",
            "2/2 [==============================] - 0s 31ms/step\n",
            "400\n",
            "2/2 [==============================] - 0s 32ms/step\n",
            "401\n",
            "2/2 [==============================] - 0s 32ms/step\n",
            "402\n",
            "2/2 [==============================] - 0s 32ms/step\n",
            "403\n",
            "2/2 [==============================] - 0s 32ms/step\n",
            "404\n",
            "2/2 [==============================] - 0s 31ms/step\n",
            "405\n",
            "2/2 [==============================] - 0s 32ms/step\n",
            "406\n",
            "2/2 [==============================] - 0s 32ms/step\n",
            "407\n",
            "2/2 [==============================] - 0s 32ms/step\n",
            "408\n",
            "2/2 [==============================] - 0s 31ms/step\n",
            "409\n",
            "2/2 [==============================] - 0s 32ms/step\n",
            "410\n",
            "2/2 [==============================] - 0s 31ms/step\n",
            "411\n",
            "2/2 [==============================] - 0s 31ms/step\n",
            "412\n",
            "2/2 [==============================] - 0s 32ms/step\n",
            "413\n",
            "2/2 [==============================] - 0s 31ms/step\n",
            "414\n",
            "2/2 [==============================] - 0s 31ms/step\n",
            "415\n",
            "2/2 [==============================] - 0s 32ms/step\n",
            "416\n",
            "2/2 [==============================] - 0s 32ms/step\n",
            "417\n",
            "2/2 [==============================] - 0s 31ms/step\n",
            "418\n",
            "2/2 [==============================] - 0s 30ms/step\n",
            "419\n",
            "2/2 [==============================] - 0s 31ms/step\n",
            "420\n",
            "2/2 [==============================] - 0s 31ms/step\n",
            "421\n",
            "2/2 [==============================] - 0s 31ms/step\n",
            "422\n",
            "2/2 [==============================] - 0s 38ms/step\n",
            "423\n",
            "2/2 [==============================] - 0s 31ms/step\n",
            "424\n",
            "2/2 [==============================] - 0s 29ms/step\n",
            "425\n",
            "2/2 [==============================] - 0s 32ms/step\n",
            "426\n",
            "2/2 [==============================] - 0s 31ms/step\n",
            "427\n",
            "2/2 [==============================] - 0s 30ms/step\n",
            "428\n",
            "2/2 [==============================] - 0s 31ms/step\n",
            "429\n",
            "2/2 [==============================] - 0s 35ms/step\n",
            "430\n",
            "2/2 [==============================] - 0s 31ms/step\n",
            "431\n",
            "2/2 [==============================] - 0s 31ms/step\n",
            "432\n",
            "2/2 [==============================] - 0s 31ms/step\n",
            "433\n",
            "2/2 [==============================] - 0s 31ms/step\n",
            "434\n",
            "2/2 [==============================] - 0s 31ms/step\n",
            "435\n",
            "2/2 [==============================] - 0s 31ms/step\n",
            "436\n",
            "2/2 [==============================] - 0s 28ms/step\n",
            "437\n",
            "2/2 [==============================] - 0s 32ms/step\n",
            "438\n",
            "2/2 [==============================] - 0s 32ms/step\n",
            "439\n",
            "2/2 [==============================] - 0s 31ms/step\n",
            "440\n",
            "2/2 [==============================] - 0s 31ms/step\n",
            "441\n",
            "2/2 [==============================] - 0s 31ms/step\n",
            "442\n",
            "2/2 [==============================] - 0s 37ms/step\n",
            "443\n",
            "2/2 [==============================] - 0s 32ms/step\n",
            "444\n",
            "2/2 [==============================] - 0s 31ms/step\n",
            "445\n",
            "2/2 [==============================] - 0s 32ms/step\n",
            "446\n",
            "2/2 [==============================] - 0s 31ms/step\n",
            "447\n",
            "2/2 [==============================] - 0s 31ms/step\n",
            "448\n",
            "2/2 [==============================] - 0s 31ms/step\n",
            "449\n",
            "2/2 [==============================] - 0s 31ms/step\n",
            "450\n",
            "2/2 [==============================] - 0s 31ms/step\n",
            "451\n",
            "2/2 [==============================] - 0s 31ms/step\n",
            "452\n",
            "2/2 [==============================] - 0s 31ms/step\n",
            "453\n",
            "2/2 [==============================] - 0s 31ms/step\n",
            "454\n",
            "2/2 [==============================] - 0s 32ms/step\n",
            "455\n",
            "2/2 [==============================] - 0s 31ms/step\n",
            "456\n",
            "2/2 [==============================] - 0s 32ms/step\n",
            "457\n",
            "2/2 [==============================] - 0s 31ms/step\n",
            "458\n",
            "2/2 [==============================] - 0s 38ms/step\n",
            "459\n",
            "2/2 [==============================] - 0s 32ms/step\n",
            "460\n",
            "2/2 [==============================] - 0s 31ms/step\n",
            "461\n",
            "2/2 [==============================] - 0s 30ms/step\n",
            "462\n",
            "2/2 [==============================] - 0s 31ms/step\n",
            "463\n",
            "2/2 [==============================] - 0s 32ms/step\n",
            "464\n",
            "2/2 [==============================] - 0s 35ms/step\n",
            "465\n",
            "2/2 [==============================] - 0s 32ms/step\n",
            "466\n",
            "2/2 [==============================] - 0s 31ms/step\n",
            "467\n",
            "2/2 [==============================] - 0s 32ms/step\n",
            "468\n",
            "2/2 [==============================] - 0s 32ms/step\n",
            "469\n",
            "2/2 [==============================] - 0s 31ms/step\n",
            "470\n",
            "2/2 [==============================] - 0s 33ms/step\n",
            "471\n",
            "2/2 [==============================] - 0s 31ms/step\n",
            "472\n",
            "2/2 [==============================] - 0s 31ms/step\n",
            "473\n",
            "2/2 [==============================] - 0s 32ms/step\n",
            "474\n",
            "2/2 [==============================] - 0s 31ms/step\n",
            "475\n",
            "2/2 [==============================] - 0s 31ms/step\n",
            "476\n",
            "2/2 [==============================] - 0s 32ms/step\n",
            "477\n",
            "2/2 [==============================] - 0s 31ms/step\n",
            "478\n",
            "2/2 [==============================] - 0s 36ms/step\n",
            "479\n",
            "2/2 [==============================] - 0s 32ms/step\n",
            "480\n",
            "2/2 [==============================] - 0s 31ms/step\n",
            "481\n",
            "2/2 [==============================] - 0s 32ms/step\n",
            "482\n",
            "2/2 [==============================] - 0s 34ms/step\n",
            "483\n",
            "2/2 [==============================] - 0s 31ms/step\n",
            "484\n",
            "2/2 [==============================] - 0s 32ms/step\n",
            "485\n",
            "2/2 [==============================] - 0s 31ms/step\n",
            "486\n",
            "2/2 [==============================] - 0s 32ms/step\n",
            "487\n",
            "2/2 [==============================] - 0s 31ms/step\n",
            "488\n",
            "2/2 [==============================] - 0s 32ms/step\n",
            "489\n",
            "2/2 [==============================] - 0s 31ms/step\n",
            "490\n",
            "2/2 [==============================] - 0s 32ms/step\n",
            "491\n",
            "2/2 [==============================] - 0s 31ms/step\n",
            "492\n",
            "2/2 [==============================] - 0s 31ms/step\n",
            "493\n",
            "2/2 [==============================] - 0s 33ms/step\n",
            "494\n",
            "2/2 [==============================] - 0s 31ms/step\n",
            "495\n",
            "2/2 [==============================] - 0s 32ms/step\n",
            "496\n",
            "2/2 [==============================] - 0s 27ms/step\n",
            "497\n",
            "2/2 [==============================] - 0s 31ms/step\n",
            "498\n",
            "2/2 [==============================] - 0s 31ms/step\n",
            "499\n",
            "2/2 [==============================] - 0s 31ms/step\n",
            "500\n",
            "2/2 [==============================] - 0s 32ms/step\n",
            "501\n",
            "2/2 [==============================] - 0s 31ms/step\n",
            "502\n",
            "2/2 [==============================] - 0s 31ms/step\n",
            "503\n",
            "2/2 [==============================] - 0s 31ms/step\n",
            "504\n",
            "2/2 [==============================] - 0s 31ms/step\n",
            "505\n",
            "2/2 [==============================] - 0s 32ms/step\n",
            "506\n",
            "2/2 [==============================] - 0s 31ms/step\n",
            "507\n",
            "2/2 [==============================] - 0s 39ms/step\n",
            "508\n",
            "2/2 [==============================] - 0s 32ms/step\n",
            "509\n",
            "2/2 [==============================] - 0s 32ms/step\n",
            "510\n",
            "2/2 [==============================] - 0s 31ms/step\n",
            "511\n",
            "2/2 [==============================] - 0s 31ms/step\n",
            "512\n",
            "2/2 [==============================] - 0s 35ms/step\n",
            "513\n",
            "2/2 [==============================] - 0s 32ms/step\n",
            "514\n",
            "2/2 [==============================] - 0s 32ms/step\n",
            "515\n",
            "2/2 [==============================] - 0s 33ms/step\n",
            "516\n",
            "2/2 [==============================] - 0s 31ms/step\n",
            "517\n",
            "2/2 [==============================] - 0s 28ms/step\n",
            "518\n",
            "2/2 [==============================] - 0s 32ms/step\n",
            "519\n",
            "2/2 [==============================] - 0s 32ms/step\n",
            "520\n",
            "2/2 [==============================] - 0s 34ms/step\n",
            "521\n",
            "2/2 [==============================] - 0s 31ms/step\n",
            "522\n",
            "2/2 [==============================] - 0s 32ms/step\n",
            "523\n",
            "2/2 [==============================] - 0s 31ms/step\n",
            "524\n",
            "2/2 [==============================] - 0s 31ms/step\n",
            "525\n",
            "2/2 [==============================] - 0s 31ms/step\n",
            "526\n",
            "2/2 [==============================] - 0s 32ms/step\n",
            "527\n",
            "2/2 [==============================] - 0s 29ms/step\n",
            "528\n",
            "2/2 [==============================] - 0s 30ms/step\n",
            "529\n",
            "2/2 [==============================] - 0s 31ms/step\n",
            "530\n",
            "2/2 [==============================] - 0s 32ms/step\n",
            "531\n",
            "2/2 [==============================] - 0s 31ms/step\n",
            "532\n",
            "2/2 [==============================] - 0s 31ms/step\n",
            "533\n",
            "2/2 [==============================] - 0s 31ms/step\n",
            "534\n",
            "2/2 [==============================] - 0s 31ms/step\n",
            "535\n",
            "2/2 [==============================] - 0s 32ms/step\n",
            "536\n",
            "2/2 [==============================] - 0s 31ms/step\n",
            "537\n",
            "2/2 [==============================] - 0s 31ms/step\n",
            "538\n",
            "2/2 [==============================] - 0s 32ms/step\n",
            "539\n",
            "2/2 [==============================] - 0s 31ms/step\n",
            "540\n",
            "2/2 [==============================] - 0s 36ms/step\n",
            "541\n",
            "2/2 [==============================] - 0s 31ms/step\n",
            "542\n",
            "2/2 [==============================] - 0s 31ms/step\n",
            "543\n",
            "2/2 [==============================] - 0s 33ms/step\n",
            "544\n",
            "2/2 [==============================] - 0s 31ms/step\n",
            "545\n",
            "2/2 [==============================] - 0s 31ms/step\n",
            "546\n",
            "2/2 [==============================] - 0s 33ms/step\n",
            "547\n",
            "2/2 [==============================] - 0s 31ms/step\n",
            "548\n",
            "2/2 [==============================] - 0s 32ms/step\n",
            "549\n",
            "2/2 [==============================] - 0s 31ms/step\n",
            "550\n",
            "BLEU score on validation dataset: 0.4780\n"
          ]
        }
      ]
    }
  ],
  "metadata": {
    "accelerator": "GPU",
    "colab": {
      "collapsed_sections": [
        "WgU1Z8fcOSW_",
        "RBHsJDpiYDs7",
        "omyb2Dq_YHbT"
      ],
      "provenance": [],
      "gpuType": "T4"
    },
    "kernelspec": {
      "display_name": "Python 3",
      "name": "python3"
    },
    "language_info": {
      "name": "python"
    }
  },
  "nbformat": 4,
  "nbformat_minor": 0
}