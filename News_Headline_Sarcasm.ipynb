{
  "nbformat": 4,
  "nbformat_minor": 0,
  "metadata": {
    "colab": {
      "name": "News Headline Sarcasm.ipynb",
      "provenance": [],
      "collapsed_sections": [],
      "authorship_tag": "ABX9TyOVX6AieW68aB/zfjltBa+y"
    },
    "kernelspec": {
      "name": "python3",
      "display_name": "Python 3"
    },
    "language_info": {
      "name": "python"
    }
  },
  "cells": [
    {
      "cell_type": "code",
      "execution_count": null,
      "metadata": {
        "id": "3q-wfrrnQ7gB"
      },
      "outputs": [],
      "source": [
        "import numpy as np\n",
        "import pandas as pd\n",
        "\n",
        "import matplotlib.pyplot as plt\n",
        "import seaborn as sns\n",
        "\n",
        "from sklearn.model_selection import train_test_split\n",
        "\n",
        "import tensorflow as tf\n",
        "\n",
        "from sklearn.metrics import confusion_matrix, classification_report\n"
      ]
    },
    {
      "cell_type": "code",
      "source": [
        "data = pd.read_json('/content/Sarcasm_Headlines_Dataset.json' , lines = True)\n",
        "data"
      ],
      "metadata": {
        "colab": {
          "base_uri": "https://localhost:8080/",
          "height": 424
        },
        "id": "DfBj-EVQR6ci",
        "outputId": "3ad2002a-d6d6-43b8-d7e1-684183921c61"
      },
      "execution_count": null,
      "outputs": [
        {
          "output_type": "execute_result",
          "data": {
            "text/plain": [
              "                                            article_link  \\\n",
              "0      https://www.huffingtonpost.com/entry/versace-b...   \n",
              "1      https://www.huffingtonpost.com/entry/roseanne-...   \n",
              "2      https://local.theonion.com/mom-starting-to-fea...   \n",
              "3      https://politics.theonion.com/boehner-just-wan...   \n",
              "4      https://www.huffingtonpost.com/entry/jk-rowlin...   \n",
              "...                                                  ...   \n",
              "26704  https://www.huffingtonpost.com/entry/american-...   \n",
              "26705  https://www.huffingtonpost.com/entry/americas-...   \n",
              "26706  https://www.huffingtonpost.com/entry/reparatio...   \n",
              "26707  https://www.huffingtonpost.com/entry/israeli-b...   \n",
              "26708  https://www.huffingtonpost.com/entry/gourmet-g...   \n",
              "\n",
              "                                                headline  is_sarcastic  \n",
              "0      former versace store clerk sues over secret 'b...             0  \n",
              "1      the 'roseanne' revival catches up to our thorn...             0  \n",
              "2      mom starting to fear son's web series closest ...             1  \n",
              "3      boehner just wants wife to listen, not come up...             1  \n",
              "4      j.k. rowling wishes snape happy birthday in th...             0  \n",
              "...                                                  ...           ...  \n",
              "26704               american politics in moral free-fall             0  \n",
              "26705                            america's best 20 hikes             0  \n",
              "26706                              reparations and obama             0  \n",
              "26707  israeli ban targeting boycott supporters raise...             0  \n",
              "26708                  gourmet gifts for the foodie 2014             0  \n",
              "\n",
              "[26709 rows x 3 columns]"
            ],
            "text/html": [
              "\n",
              "  <div id=\"df-eadf61ad-33db-4237-b407-c73ba30c3b3b\">\n",
              "    <div class=\"colab-df-container\">\n",
              "      <div>\n",
              "<style scoped>\n",
              "    .dataframe tbody tr th:only-of-type {\n",
              "        vertical-align: middle;\n",
              "    }\n",
              "\n",
              "    .dataframe tbody tr th {\n",
              "        vertical-align: top;\n",
              "    }\n",
              "\n",
              "    .dataframe thead th {\n",
              "        text-align: right;\n",
              "    }\n",
              "</style>\n",
              "<table border=\"1\" class=\"dataframe\">\n",
              "  <thead>\n",
              "    <tr style=\"text-align: right;\">\n",
              "      <th></th>\n",
              "      <th>article_link</th>\n",
              "      <th>headline</th>\n",
              "      <th>is_sarcastic</th>\n",
              "    </tr>\n",
              "  </thead>\n",
              "  <tbody>\n",
              "    <tr>\n",
              "      <th>0</th>\n",
              "      <td>https://www.huffingtonpost.com/entry/versace-b...</td>\n",
              "      <td>former versace store clerk sues over secret 'b...</td>\n",
              "      <td>0</td>\n",
              "    </tr>\n",
              "    <tr>\n",
              "      <th>1</th>\n",
              "      <td>https://www.huffingtonpost.com/entry/roseanne-...</td>\n",
              "      <td>the 'roseanne' revival catches up to our thorn...</td>\n",
              "      <td>0</td>\n",
              "    </tr>\n",
              "    <tr>\n",
              "      <th>2</th>\n",
              "      <td>https://local.theonion.com/mom-starting-to-fea...</td>\n",
              "      <td>mom starting to fear son's web series closest ...</td>\n",
              "      <td>1</td>\n",
              "    </tr>\n",
              "    <tr>\n",
              "      <th>3</th>\n",
              "      <td>https://politics.theonion.com/boehner-just-wan...</td>\n",
              "      <td>boehner just wants wife to listen, not come up...</td>\n",
              "      <td>1</td>\n",
              "    </tr>\n",
              "    <tr>\n",
              "      <th>4</th>\n",
              "      <td>https://www.huffingtonpost.com/entry/jk-rowlin...</td>\n",
              "      <td>j.k. rowling wishes snape happy birthday in th...</td>\n",
              "      <td>0</td>\n",
              "    </tr>\n",
              "    <tr>\n",
              "      <th>...</th>\n",
              "      <td>...</td>\n",
              "      <td>...</td>\n",
              "      <td>...</td>\n",
              "    </tr>\n",
              "    <tr>\n",
              "      <th>26704</th>\n",
              "      <td>https://www.huffingtonpost.com/entry/american-...</td>\n",
              "      <td>american politics in moral free-fall</td>\n",
              "      <td>0</td>\n",
              "    </tr>\n",
              "    <tr>\n",
              "      <th>26705</th>\n",
              "      <td>https://www.huffingtonpost.com/entry/americas-...</td>\n",
              "      <td>america's best 20 hikes</td>\n",
              "      <td>0</td>\n",
              "    </tr>\n",
              "    <tr>\n",
              "      <th>26706</th>\n",
              "      <td>https://www.huffingtonpost.com/entry/reparatio...</td>\n",
              "      <td>reparations and obama</td>\n",
              "      <td>0</td>\n",
              "    </tr>\n",
              "    <tr>\n",
              "      <th>26707</th>\n",
              "      <td>https://www.huffingtonpost.com/entry/israeli-b...</td>\n",
              "      <td>israeli ban targeting boycott supporters raise...</td>\n",
              "      <td>0</td>\n",
              "    </tr>\n",
              "    <tr>\n",
              "      <th>26708</th>\n",
              "      <td>https://www.huffingtonpost.com/entry/gourmet-g...</td>\n",
              "      <td>gourmet gifts for the foodie 2014</td>\n",
              "      <td>0</td>\n",
              "    </tr>\n",
              "  </tbody>\n",
              "</table>\n",
              "<p>26709 rows × 3 columns</p>\n",
              "</div>\n",
              "      <button class=\"colab-df-convert\" onclick=\"convertToInteractive('df-eadf61ad-33db-4237-b407-c73ba30c3b3b')\"\n",
              "              title=\"Convert this dataframe to an interactive table.\"\n",
              "              style=\"display:none;\">\n",
              "        \n",
              "  <svg xmlns=\"http://www.w3.org/2000/svg\" height=\"24px\"viewBox=\"0 0 24 24\"\n",
              "       width=\"24px\">\n",
              "    <path d=\"M0 0h24v24H0V0z\" fill=\"none\"/>\n",
              "    <path d=\"M18.56 5.44l.94 2.06.94-2.06 2.06-.94-2.06-.94-.94-2.06-.94 2.06-2.06.94zm-11 1L8.5 8.5l.94-2.06 2.06-.94-2.06-.94L8.5 2.5l-.94 2.06-2.06.94zm10 10l.94 2.06.94-2.06 2.06-.94-2.06-.94-.94-2.06-.94 2.06-2.06.94z\"/><path d=\"M17.41 7.96l-1.37-1.37c-.4-.4-.92-.59-1.43-.59-.52 0-1.04.2-1.43.59L10.3 9.45l-7.72 7.72c-.78.78-.78 2.05 0 2.83L4 21.41c.39.39.9.59 1.41.59.51 0 1.02-.2 1.41-.59l7.78-7.78 2.81-2.81c.8-.78.8-2.07 0-2.86zM5.41 20L4 18.59l7.72-7.72 1.47 1.35L5.41 20z\"/>\n",
              "  </svg>\n",
              "      </button>\n",
              "      \n",
              "  <style>\n",
              "    .colab-df-container {\n",
              "      display:flex;\n",
              "      flex-wrap:wrap;\n",
              "      gap: 12px;\n",
              "    }\n",
              "\n",
              "    .colab-df-convert {\n",
              "      background-color: #E8F0FE;\n",
              "      border: none;\n",
              "      border-radius: 50%;\n",
              "      cursor: pointer;\n",
              "      display: none;\n",
              "      fill: #1967D2;\n",
              "      height: 32px;\n",
              "      padding: 0 0 0 0;\n",
              "      width: 32px;\n",
              "    }\n",
              "\n",
              "    .colab-df-convert:hover {\n",
              "      background-color: #E2EBFA;\n",
              "      box-shadow: 0px 1px 2px rgba(60, 64, 67, 0.3), 0px 1px 3px 1px rgba(60, 64, 67, 0.15);\n",
              "      fill: #174EA6;\n",
              "    }\n",
              "\n",
              "    [theme=dark] .colab-df-convert {\n",
              "      background-color: #3B4455;\n",
              "      fill: #D2E3FC;\n",
              "    }\n",
              "\n",
              "    [theme=dark] .colab-df-convert:hover {\n",
              "      background-color: #434B5C;\n",
              "      box-shadow: 0px 1px 3px 1px rgba(0, 0, 0, 0.15);\n",
              "      filter: drop-shadow(0px 1px 2px rgba(0, 0, 0, 0.3));\n",
              "      fill: #FFFFFF;\n",
              "    }\n",
              "  </style>\n",
              "\n",
              "      <script>\n",
              "        const buttonEl =\n",
              "          document.querySelector('#df-eadf61ad-33db-4237-b407-c73ba30c3b3b button.colab-df-convert');\n",
              "        buttonEl.style.display =\n",
              "          google.colab.kernel.accessAllowed ? 'block' : 'none';\n",
              "\n",
              "        async function convertToInteractive(key) {\n",
              "          const element = document.querySelector('#df-eadf61ad-33db-4237-b407-c73ba30c3b3b');\n",
              "          const dataTable =\n",
              "            await google.colab.kernel.invokeFunction('convertToInteractive',\n",
              "                                                     [key], {});\n",
              "          if (!dataTable) return;\n",
              "\n",
              "          const docLinkHtml = 'Like what you see? Visit the ' +\n",
              "            '<a target=\"_blank\" href=https://colab.research.google.com/notebooks/data_table.ipynb>data table notebook</a>'\n",
              "            + ' to learn more about interactive tables.';\n",
              "          element.innerHTML = '';\n",
              "          dataTable['output_type'] = 'display_data';\n",
              "          await google.colab.output.renderOutput(dataTable, element);\n",
              "          const docLink = document.createElement('div');\n",
              "          docLink.innerHTML = docLinkHtml;\n",
              "          element.appendChild(docLink);\n",
              "        }\n",
              "      </script>\n",
              "    </div>\n",
              "  </div>\n",
              "  "
            ]
          },
          "metadata": {},
          "execution_count": 3
        }
      ]
    },
    {
      "cell_type": "code",
      "source": [
        "data.info()"
      ],
      "metadata": {
        "colab": {
          "base_uri": "https://localhost:8080/"
        },
        "id": "xaym810SWv4k",
        "outputId": "1a9bb1fb-b429-4215-b598-7de405a44428"
      },
      "execution_count": null,
      "outputs": [
        {
          "output_type": "stream",
          "name": "stdout",
          "text": [
            "<class 'pandas.core.frame.DataFrame'>\n",
            "RangeIndex: 26709 entries, 0 to 26708\n",
            "Data columns (total 3 columns):\n",
            " #   Column        Non-Null Count  Dtype \n",
            "---  ------        --------------  ----- \n",
            " 0   article_link  26709 non-null  object\n",
            " 1   headline      26709 non-null  object\n",
            " 2   is_sarcastic  26709 non-null  int64 \n",
            "dtypes: int64(1), object(2)\n",
            "memory usage: 626.1+ KB\n"
          ]
        }
      ]
    },
    {
      "cell_type": "markdown",
      "source": [
        "## PreProcessing"
      ],
      "metadata": {
        "id": "tlPToFKfXDYg"
      }
    },
    {
      "cell_type": "code",
      "source": [
        "def get_sequences(texts, tokenizer, train=True, max_seq_length=None):\n",
        "    sequences = tokenizer.texts_to_sequences(texts)\n",
        "    \n",
        "    if train == True:\n",
        "        max_seq_length = np.max(list(map(len, sequences)))\n",
        "    \n",
        "    sequences = tf.keras.preprocessing.sequence.pad_sequences(sequences, maxlen=max_seq_length, padding='post')\n",
        "    \n",
        "    return sequences"
      ],
      "metadata": {
        "id": "ZQ3nYHbqc-N2"
      },
      "execution_count": null,
      "outputs": []
    },
    {
      "cell_type": "code",
      "source": [
        "def preprocess_inputs(df):\n",
        "  df = df.copy()\n",
        "  \n",
        "  #droppin article_link\n",
        "  df = df.drop('article_link', axis = 1)\n",
        "\n",
        "  # split X and y\n",
        "  y = df['is_sarcastic']\n",
        "  X = df['headline']\n",
        "\n",
        "  # train test split\n",
        "  X_train, X_test, y_train, y_test = train_test_split(X, y, train_size = 0.7, shuffle = True, random_state = 1) \n",
        "\n",
        "  # create and fit tokenizer\n",
        "  tokenizer = tf.keras.preprocessing.text.Tokenizer()\n",
        "  tokenizer.fit_on_texts(X_train)\n",
        "  print('vocab length', len(tokenizer.word_index) + 1)\n",
        "\n",
        "  # Get sequence data\n",
        "  X_train = get_sequences(texts=X_train, tokenizer=tokenizer, train=True)\n",
        "  X_test = get_sequences(texts=X_test, tokenizer=tokenizer, train=False, max_seq_length=X_train.shape[1])\n",
        "\n",
        "  print ('sequence length' , X_train.shape[1])\n",
        "\n",
        "  return X_train, y_train, X_test, y_test\n"
      ],
      "metadata": {
        "id": "MysnzbZnWzeX"
      },
      "execution_count": null,
      "outputs": []
    },
    {
      "cell_type": "code",
      "source": [
        "X_train, y_train, X_test, y_test = preprocess_inputs(data)"
      ],
      "metadata": {
        "colab": {
          "base_uri": "https://localhost:8080/"
        },
        "id": "sM_W9n-cX0cJ",
        "outputId": "b2b31c70-76ca-4ec8-8991-03ddb11d3f55"
      },
      "execution_count": null,
      "outputs": [
        {
          "output_type": "stream",
          "name": "stdout",
          "text": [
            "vocab length 24846\n",
            "sequence length 40\n"
          ]
        }
      ]
    },
    {
      "cell_type": "code",
      "source": [
        "X_train"
      ],
      "metadata": {
        "colab": {
          "base_uri": "https://localhost:8080/"
        },
        "id": "mpjzfm5jYnsA",
        "outputId": "e302466e-f6b2-408c-b24a-2b9d945bb844"
      },
      "execution_count": null,
      "outputs": [
        {
          "output_type": "execute_result",
          "data": {
            "text/plain": [
              "21906       don king enjoys grandilomentitudinous sandwich\n",
              "24781    vital info on iraqi chemical weapons provided ...\n",
              "22552    hacker releases new 'orange is the new black' ...\n",
              "17857                      how boredom can lead to failure\n",
              "20032                                mind the (gender) gap\n",
              "                               ...                        \n",
              "10955    5 ways to outsmart the supermarket and lose we...\n",
              "17289    reflecting on the aids epidemic this gay men's...\n",
              "5192     arianna joins payoff to 'reshape' financial se...\n",
              "12172    rashida jones pays homage to the '90s with 'fl...\n",
              "235      how to rebuild your credit after bankruptcy --...\n",
              "Name: headline, Length: 18696, dtype: object"
            ]
          },
          "metadata": {},
          "execution_count": 42
        }
      ]
    },
    {
      "cell_type": "code",
      "source": [
        "y_train"
      ],
      "metadata": {
        "colab": {
          "base_uri": "https://localhost:8080/"
        },
        "id": "MiTGn_571UKN",
        "outputId": "151abae6-069d-46ab-859b-bb6ab7a70da6"
      },
      "execution_count": null,
      "outputs": [
        {
          "output_type": "execute_result",
          "data": {
            "text/plain": [
              "21906    1\n",
              "24781    1\n",
              "22552    0\n",
              "17857    0\n",
              "20032    0\n",
              "        ..\n",
              "10955    0\n",
              "17289    0\n",
              "5192     0\n",
              "12172    0\n",
              "235      0\n",
              "Name: is_sarcastic, Length: 18696, dtype: int64"
            ]
          },
          "metadata": {},
          "execution_count": 63
        }
      ]
    },
    {
      "cell_type": "code",
      "source": [
        "y_train.value_counts()"
      ],
      "metadata": {
        "colab": {
          "base_uri": "https://localhost:8080/"
        },
        "id": "2kY76vre2rcJ",
        "outputId": "f3a4c813-2082-4cae-b447-4818689cf91a"
      },
      "execution_count": null,
      "outputs": [
        {
          "output_type": "execute_result",
          "data": {
            "text/plain": [
              "0    10499\n",
              "1     8197\n",
              "Name: is_sarcastic, dtype: int64"
            ]
          },
          "metadata": {},
          "execution_count": 64
        }
      ]
    },
    {
      "cell_type": "markdown",
      "source": [
        "# Training"
      ],
      "metadata": {
        "id": "NIA_EDQA31CP"
      }
    },
    {
      "cell_type": "code",
      "source": [
        "inputs = tf.keras.Input(shape=(40,))\n",
        "x = tf.keras.layers.Embedding(\n",
        "    input_dim=24846,\n",
        "    output_dim=64\n",
        ")(inputs)\n",
        "x = tf.keras.layers.Flatten()(x)\n",
        "x = tf.keras.layers.Dense(128, activation = 'relu')(x)\n",
        "x = tf.keras.layers.Dense(128, activation = 'relu')(x)\n",
        "outputs = tf.keras.layers.Dense(1, activation = 'sigmoid')(x)\n",
        "\n",
        "model = tf.keras.Model(inputs = inputs, outputs = outputs)\n",
        "\n",
        "model.compile(\n",
        "    optimizer = 'adam',\n",
        "    loss = 'binary_crossentropy',\n",
        "    metrics=[\n",
        "             'accuracy',\n",
        "             tf.keras.metrics.AUC(name = 'auc')\n",
        "    ]\n",
        ")\n",
        "print (model.summary())"
      ],
      "metadata": {
        "colab": {
          "base_uri": "https://localhost:8080/"
        },
        "id": "DzFocsoRfjqK",
        "outputId": "3f7f4afc-39fb-478e-97db-947a4131fb5a"
      },
      "execution_count": null,
      "outputs": [
        {
          "output_type": "stream",
          "name": "stdout",
          "text": [
            "Model: \"model_2\"\n",
            "_________________________________________________________________\n",
            " Layer (type)                Output Shape              Param #   \n",
            "=================================================================\n",
            " input_13 (InputLayer)       [(None, 40)]              0         \n",
            "                                                                 \n",
            " embedding_10 (Embedding)    (None, 40, 64)            1590144   \n",
            "                                                                 \n",
            " flatten_8 (Flatten)         (None, 2560)              0         \n",
            "                                                                 \n",
            " dense_14 (Dense)            (None, 128)               327808    \n",
            "                                                                 \n",
            " dense_15 (Dense)            (None, 128)               16512     \n",
            "                                                                 \n",
            " dense_16 (Dense)            (None, 1)                 129       \n",
            "                                                                 \n",
            "=================================================================\n",
            "Total params: 1,934,593\n",
            "Trainable params: 1,934,593\n",
            "Non-trainable params: 0\n",
            "_________________________________________________________________\n",
            "None\n"
          ]
        }
      ]
    },
    {
      "cell_type": "code",
      "source": [
        "history = model.fit(\n",
        "    X_train,\n",
        "    y_train,\n",
        "    validation_split=0.2,\n",
        "    batch_size=32,\n",
        "    epochs=100,\n",
        "    callbacks=[\n",
        "               tf.keras.callbacks.EarlyStopping(\n",
        "                   monitor = 'val_loss',\n",
        "                   patience=3,\n",
        "                   restore_best_weights=True\n",
        "               )\n",
        "    ]\n",
        ")"
      ],
      "metadata": {
        "colab": {
          "base_uri": "https://localhost:8080/"
        },
        "id": "2q6lvamX8GTA",
        "outputId": "1dd60a6b-bf30-4162-974f-b0544e058856"
      },
      "execution_count": null,
      "outputs": [
        {
          "output_type": "stream",
          "name": "stdout",
          "text": [
            "Epoch 1/100\n",
            "468/468 [==============================] - 18s 34ms/step - loss: 0.4089 - accuracy: 0.7979 - auc: 0.8900 - val_loss: 0.3194 - val_accuracy: 0.8644 - val_auc: 0.9374\n",
            "Epoch 2/100\n",
            "468/468 [==============================] - 16s 33ms/step - loss: 0.0858 - accuracy: 0.9694 - auc: 0.9948 - val_loss: 0.4502 - val_accuracy: 0.8465 - val_auc: 0.9205\n",
            "Epoch 3/100\n",
            "468/468 [==============================] - 15s 33ms/step - loss: 0.0076 - accuracy: 0.9980 - auc: 0.9998 - val_loss: 0.5640 - val_accuracy: 0.8393 - val_auc: 0.9166\n",
            "Epoch 4/100\n",
            "468/468 [==============================] - 15s 33ms/step - loss: 0.0013 - accuracy: 0.9995 - auc: 1.0000 - val_loss: 0.6369 - val_accuracy: 0.8465 - val_auc: 0.9125\n"
          ]
        }
      ]
    },
    {
      "cell_type": "code",
      "source": [
        "results = model.evaluate(X_test, y_test, verbose=0)\n",
        "\n",
        "print(\"Accuracy: {:.2f}%\".format(results[1] * 100))\n",
        "print(\"     AUC: {:.5f}\".format(results[2]))\n",
        "\n",
        "y_pred = np.squeeze(model.predict(X_test)>=0.5).astype(int)\n",
        "cm = confusion_matrix(y_test, y_pred, labels=[0,1])\n",
        "clr = classification_report(y_test, y_pred, labels=[0,1], target_names = [\"No Sarcasm\", \"Sarcasm\"])\n",
        "\n",
        "plt.figure(figsize = (6,6))\n",
        "sns.heatmap(cm, annot=True, fmt='g', vmin = 0, cmap = 'Blues', cbar = False)\n",
        "plt.xticks(ticks = [0.5,1.5], labels=[\"No Sarcasm\", \"Sarcasm\"])\n",
        "plt.yticks(ticks = [0.5,1.5], labels=[\"No Sarcasm\", \"Sarcasm\"])\n",
        "plt.xlabel('predicted')\n",
        "plt.ylabel('Actual')\n",
        "plt.title('Confusion Matrix')\n",
        "\n",
        "plt.show()\n",
        "print(\"Classification Report:\\n------------------\\n\", clr)"
      ],
      "metadata": {
        "colab": {
          "base_uri": "https://localhost:8080/",
          "height": 630
        },
        "id": "mfxEPEVz8HME",
        "outputId": "29396c26-0ad5-4388-e556-f34ab44772ef"
      },
      "execution_count": null,
      "outputs": [
        {
          "output_type": "stream",
          "name": "stdout",
          "text": [
            "Accuracy: 85.84%\n",
            "     AUC: 0.93774\n"
          ]
        },
        {
          "output_type": "display_data",
          "data": {
            "text/plain": [
              "<Figure size 432x432 with 1 Axes>"
            ],
            "image/png": "[encoded data removed]"
          },
          "metadata": {
            "needs_background": "light"
          }
        },
        {
          "output_type": "stream",
          "name": "stdout",
          "text": [
            "Classification Report:\n",
            "------------------\n",
            "               precision    recall  f1-score   support\n",
            "\n",
            "  No Sarcasm       0.89      0.86      0.87      4486\n",
            "     Sarcasm       0.83      0.86      0.84      3527\n",
            "\n",
            "    accuracy                           0.86      8013\n",
            "   macro avg       0.86      0.86      0.86      8013\n",
            "weighted avg       0.86      0.86      0.86      8013\n",
            "\n"
          ]
        }
      ]
    }
  ]
}